{
 "cells": [
  {
   "cell_type": "markdown",
   "metadata": {
    "slideshow": {
     "slide_type": "-"
    }
   },
   "source": [
    "# Week1_2 Python Basics \n",
    "\n",
    "In the last section, we went over the basic usage of Jupyter Notebook and experimmented with Python coding in Jupyter Notebook. You are encouraged to use the keyboard shortcuts described in the last class to experiment with the code on your own computer. \n",
    "\n",
    "This week, we will experimment with Python programming using Jupyter Notebook. We will introduce Python's basic syntax, variables, statements, loops, and functions. The purpose is to familiarize you with common Python operations. We do *not* expect you to memory the various lines of code. It is only through repetition that you will begin to internalize code syntax.\n",
    "\n",
    "<p><a id=\"table\"> </a></p>\n",
    "<h3 id=\"Table-of-Contents\">Table of Contents<a class=\"anchor-link\" href=\"#Table-of-Contents\">¶</a></h3>\n",
    "<ol>\n",
    "<h3>1. <a href=\"#variablesanddatatype\">Variables and data type</a></h3>\n",
    "1.1 <a href=\"#createvariable\">Creating a variable</a><br/>\n",
    "1.2 <a href=\"#datatypes\">Data types</a><br/>\n",
    "</ol>\n",
    "<ol>\n",
    "<h3>2. <a href=\"#operators\">Operators</a></h3>\n",
    "2.1 <a href=\"#arithmeticoperators\">Arithmetic operators</a><br/>\n",
    "2.2 <a href=\"#comparisonoperators\">Comparison operators</a><br/>\n",
    "2.3 <a href=\"#logicaloperators\">Logical operators</a><br/>\n",
    "</ol>\n",
    "<ol>\n",
    "<h3>3. <a href=\"#list\">List</a></h3>\n",
    "3.1 <a href=\"#definingalist\">Defining a list</a><br/>\n",
    "3.2 <a href=\"#listconcatenation\">List concatenation</a><br/>\n",
    "3.3 <a href=\"#subscriptindicesandslices\">Subscript indices and slices (IMPORTANT)</a><br/>\n",
    "</ol>\n",
    "<ol>\n",
    "<h3>4. <a href=\"#string\">String</a><br/></h3>\n",
    "</ol>\n",
    "<ol>\n",
    "<h3>5. <a href=\"#dictionary\">Dictionary</a><br/></h3>\n",
    "</ol>\n",
    "<ol>\n",
    "<h3>6. <a href=\"#ifstatement\">if statement</a><br/></h3>\n",
    "</ol>\n",
    "<ol>\n",
    "<h3>7. <a href=\"#loop(forstatement)\">for-loop</a></h3>\n",
    "7.1 <a href=\"#loopcontrolstatements:continueandbreak\">Control statements of a loop: continue and break (Optional)</a><br/>\n",
    "7.2 <a href=\"#thenestedloop(loopinsideanotherloop)\">The nested loop (loop inside another loop)</a><br/>   \n",
    "</ol>\n",
    "<ol>\n",
    "<h3>8. <a href=\"#definingfunctions)\">Defining functions (Optional) </a><br/></h3> \n",
    "</ol>\n"
   ]
  },
  {
   "cell_type": "markdown",
   "metadata": {},
   "source": [
    "<p><a id=\"variablesanddatatype\"> </a></p>\n",
    "<h2 id=\"1.-Variables-and-data-type\">1. <a href=\"#table\">Variables and data type</a><a class=\"anchor-link\" href=\"#1.-Variables-and-data-type\"></a></h2>\n",
    "\n",
    "<p><a id=\"createvariable\"> </a></p>\n",
    "<h3 id=\"1.1-Creating-a-variable\">1.1 <a href=\"#table\">Creating a variable</a><a class=\"anchor-link\" href=\"#1.1-Creating-a-variable\"></a></h3>"
   ]
  },
  {
   "cell_type": "markdown",
   "metadata": {},
   "source": [
    "- Creating a variable using \"=\"\n",
    "    - e.g., var_0=15\n",
    "- Rules of variable name\n",
    "    - Can be any length\n",
    "    - Can consist of letters ( A Z , a z ), digits ( 0 9 ), and the underscore character ( _ )\n",
    "    - CANNOT start with a digit \n",
    "    - Never name a variable using built-in function names, e.g., print, len, list <br> *built-in functions are shown in green in code cell by default*\n",
    "    - Examples: \n",
    "        - **Wrong:** `9_var = 3` or `len = 5`\n",
    "        - **Correct:** `var_9 = 3`\n"
   ]
  },
  {
   "cell_type": "code",
   "execution_count": 7,
   "metadata": {},
   "outputs": [],
   "source": [
    "# 9_var1 = 100\n",
    "# var1_9 = 100\n",
    "# len = 4"
   ]
  },
  {
   "cell_type": "code",
   "execution_count": 7,
   "metadata": {},
   "outputs": [],
   "source": [
    "a = 1000  # assign a integer 1000 to a variable called a\n",
    "          # \"=\" is called assignment symbol"
   ]
  },
  {
   "cell_type": "markdown",
   "metadata": {},
   "source": [
    "<p><a id=\"datatypes\"></a></p>\n",
    "<h3 id=\"1.2-Data-types\">1.2 <a href=\"#table\">Data types</a><a class=\"anchor-link\" href=\"#1.2-Data-types\"></a></h3>"
   ]
  },
  {
   "attachments": {},
   "cell_type": "markdown",
   "metadata": {},
   "source": [
    "- Numeric: integer (int), decimal number (float)\n",
    "     - int: e.g., 10\n",
    "     - float: e.g., 11.80353453\n",
    "- String: text (str)\n",
    "     - string: e.g., \"Hello!\"\n",
    "- Boolean: True or False (bool)\n",
    "     - 3==4 (False)\n",
    "     - 5 in [1,3,5,7] (True)\n",
    "- Collection of numerics, strings, or booleans:\n",
    "   - List: e.g., [1, “hello”, True!]\n",
    "   - Dictionary: e.g., {‘a’: 1, ‘b’: 2, ‘c’:3}\n",
    "   - Tuple: e.g., (1 , 2, 3). can be understanded as read-only list\n",
    "   - set: e.g., {1, 2, 3}"
   ]
  },
  {
   "cell_type": "code",
   "execution_count": 188,
   "metadata": {},
   "outputs": [
    {
     "name": "stdout",
     "output_type": "stream",
     "text": [
      "10\n"
     ]
    }
   ],
   "source": [
    "# define an integer\n",
    "a = 10\n",
    "print(a)"
   ]
  },
  {
   "cell_type": "code",
   "execution_count": 189,
   "metadata": {},
   "outputs": [
    {
     "data": {
      "text/plain": [
       "int"
      ]
     },
     "execution_count": 189,
     "metadata": {},
     "output_type": "execute_result"
    }
   ],
   "source": [
    "# check the data type: type()\n",
    "type(a)"
   ]
  },
  {
   "cell_type": "code",
   "execution_count": 190,
   "metadata": {},
   "outputs": [
    {
     "name": "stdout",
     "output_type": "stream",
     "text": [
      "hello world!\n"
     ]
    }
   ],
   "source": [
    "# define a string variable and check data type\n",
    "str1 = \"hello world!\"\n",
    "print(str1)"
   ]
  },
  {
   "cell_type": "code",
   "execution_count": 192,
   "metadata": {},
   "outputs": [
    {
     "name": "stdout",
     "output_type": "stream",
     "text": [
      "False\n"
     ]
    }
   ],
   "source": [
    "# check the Boolean type data\n",
    "c = 3 == 4\n",
    "print(c)"
   ]
  },
  {
   "cell_type": "code",
   "execution_count": 193,
   "metadata": {},
   "outputs": [
    {
     "name": "stdout",
     "output_type": "stream",
     "text": [
      "[1, 2, 'hello', [1, 2, 3]]\n"
     ]
    }
   ],
   "source": [
    "# define a list with different data types\n",
    "lst = [1, 2, \"hello\", [1,2,3] ]\n",
    "print(lst)"
   ]
  },
  {
   "cell_type": "code",
   "execution_count": 195,
   "metadata": {},
   "outputs": [
    {
     "data": {
      "text/plain": [
       "True"
      ]
     },
     "execution_count": 195,
     "metadata": {},
     "output_type": "execute_result"
    }
   ],
   "source": [
    "# check if 1 is in the lst1\n",
    "1 in lst"
   ]
  },
  {
   "cell_type": "markdown",
   "metadata": {},
   "source": [
    "---\n",
    "##### Python built-in functions/methods\n",
    "- Python provides numerous pre-defined functions that are readily available for use. These functions, known as built-in functions, do not require any prior definition. We can directly call them as needed.   \n",
    "\n",
    "- Built-in Functions:\n",
    "    - *type( )*: check a variable type (integer, string, etc.）\n",
    "    - *print( )*: Print a specified message to the screen\n",
    "    - *int( )*:  convert a variable into an integer: int(var1)\n",
    "    - *round()*: round to the nearest integer\n",
    "    - Data type conversion: \n",
    "        - Convert a variable into an integer: int(var1)\n",
    "        - Convert a variable into a string: str(var1)\n",
    "        - Convert a variable into a float: float(var1)\n",
    "---"
   ]
  },
  {
   "cell_type": "code",
   "execution_count": 197,
   "metadata": {
    "scrolled": true
   },
   "outputs": [
    {
     "name": "stdout",
     "output_type": "stream",
     "text": [
      "1\n"
     ]
    }
   ],
   "source": [
    "# convert a float variable to intger, and round down the variable\n",
    "a = 1.9\n",
    "b = int(a)\n",
    "print(b)"
   ]
  },
  {
   "cell_type": "code",
   "execution_count": 198,
   "metadata": {},
   "outputs": [
    {
     "data": {
      "text/plain": [
       "2"
      ]
     },
     "execution_count": 198,
     "metadata": {},
     "output_type": "execute_result"
    }
   ],
   "source": [
    "# Round to the nearest integer\n",
    "round(a)"
   ]
  },
  {
   "cell_type": "code",
   "execution_count": 200,
   "metadata": {},
   "outputs": [
    {
     "name": "stdout",
     "output_type": "stream",
     "text": [
      "<class 'str'>\n",
      "<class 'float'>\n"
     ]
    }
   ],
   "source": [
    "# convert a numeric variable to string\n",
    "print(type(str(a)))\n",
    "print(type(a))\n"
   ]
  },
  {
   "cell_type": "markdown",
   "metadata": {},
   "source": [
    "<p><a id=\"operators\"> </a></p>\n",
    "<h2 id=\"2-Operators\">2. <a href=\"#table\">Operators</a><a class=\"anchor-link\" href=\"#operators\"></a></h2>\n",
    "<p><a id=\"arithmeticoperators\"> </a></p>\n",
    "<h3 id=\"2.1-Arithmetic-operators\">2.1 <a href=\"#table\">Arithmetic operators</a><a class=\"anchor-link\" href=\"#2.1-Arithmetic-operators\"></a></h3>"
   ]
  },
  {
   "cell_type": "markdown",
   "metadata": {},
   "source": [
    "- +, -, *, /\n",
    "- %: mod, get the remainder of a division.\n",
    "- //: get the integer part of a quotient. e.g., 7//3=2 \n",
    "- **: power.\n",
    "  - 10**3, ten to the third power $10^3$   "
   ]
  },
  {
   "cell_type": "code",
   "execution_count": 201,
   "metadata": {},
   "outputs": [
    {
     "name": "stdout",
     "output_type": "stream",
     "text": [
      "1\n"
     ]
    }
   ],
   "source": [
    "# remainder of 7 divided by 2\n",
    "print(7%2)"
   ]
  },
  {
   "cell_type": "code",
   "execution_count": 202,
   "metadata": {},
   "outputs": [
    {
     "name": "stdout",
     "output_type": "stream",
     "text": [
      "3\n"
     ]
    }
   ],
   "source": [
    "# if we want the integer part\n",
    "print(7//2)"
   ]
  },
  {
   "cell_type": "code",
   "execution_count": 203,
   "metadata": {},
   "outputs": [
    {
     "data": {
      "text/plain": [
       "1000"
      ]
     },
     "execution_count": 203,
     "metadata": {},
     "output_type": "execute_result"
    }
   ],
   "source": [
    "# 10 to the power of 3, pow()\n",
    "10**3"
   ]
  },
  {
   "cell_type": "markdown",
   "metadata": {},
   "source": [
    "<p><a id=\"comparisonoperators\"> </a></p>\n",
    "<h3 id=\"2.2-comparison-operators\">2.2 <a href=\"#table\">Comparison operators</a><a class=\"anchor-link\" href=\"#2.2-Comparison-operators\"></a></h3>"
   ]
  },
  {
   "cell_type": "markdown",
   "metadata": {},
   "source": [
    "- <,  >,  <=,  >=\n",
    "- ==: if the values of two operands are equal, \"==\" returns True; otherwise, it returns False\n",
    "- !=: if the values of two operands are **NOT** equal, \"!=\" returns True; otherwise, it returns False"
   ]
  },
  {
   "cell_type": "code",
   "execution_count": 204,
   "metadata": {},
   "outputs": [
    {
     "name": "stdout",
     "output_type": "stream",
     "text": [
      "False\n",
      "True\n",
      "False\n"
     ]
    }
   ],
   "source": [
    "a, b = 10, 21\n",
    "print(a == b)\n",
    "print(a != b)\n",
    "print(a > b)"
   ]
  },
  {
   "cell_type": "markdown",
   "metadata": {},
   "source": [
    "<p><a id=\"logicaloperators\"> </a></p>\n",
    "<h3 id=\"2.3-logical-operators\">2.3 <a href=\"#table\">Logical operators</a><a class=\"anchor-link\" href=\"#2.3-Logical-operators\"></a></h3>"
   ]
  },
  {
   "cell_type": "markdown",
   "metadata": {},
   "source": [
    "- and (&）: If both the operands are true then condition becomes true.\n",
    "- or (|): If any of the two operands are true then condition becomes true.\n",
    "- not: Get the reversed output. "
   ]
  },
  {
   "cell_type": "code",
   "execution_count": 205,
   "metadata": {},
   "outputs": [
    {
     "data": {
      "text/plain": [
       "False"
      ]
     },
     "execution_count": 205,
     "metadata": {},
     "output_type": "execute_result"
    }
   ],
   "source": [
    "# and (&)\n",
    "3 > 4 and 3 < 4"
   ]
  },
  {
   "cell_type": "code",
   "execution_count": 206,
   "metadata": {},
   "outputs": [
    {
     "data": {
      "text/plain": [
       "True"
      ]
     },
     "execution_count": 206,
     "metadata": {},
     "output_type": "execute_result"
    }
   ],
   "source": [
    "# or (|)\n",
    "3 > 4 or 3 < 4"
   ]
  },
  {
   "cell_type": "markdown",
   "metadata": {},
   "source": [
    "**In class exercise**:\n",
    "- Judge the result:\n",
    "    - (2>1) and (3>18) or (5>4)\n",
    "    - not(2>1 or (3<2)) "
   ]
  },
  {
   "cell_type": "code",
   "execution_count": 207,
   "metadata": {},
   "outputs": [
    {
     "data": {
      "text/plain": [
       "True"
      ]
     },
     "execution_count": 207,
     "metadata": {},
     "output_type": "execute_result"
    }
   ],
   "source": [
    "(2>1) and (3>18) or (5>4)"
   ]
  },
  {
   "cell_type": "code",
   "execution_count": 208,
   "metadata": {},
   "outputs": [
    {
     "data": {
      "text/plain": [
       "False"
      ]
     },
     "execution_count": 208,
     "metadata": {},
     "output_type": "execute_result"
    }
   ],
   "source": [
    "not(2>1 or (3<2))"
   ]
  },
  {
   "cell_type": "markdown",
   "metadata": {},
   "source": [
    "<p><a id=\"list\"> </a></p>\n",
    "<h2 id=\"3-list\">3. <a href=\"#table\">List</a><a class=\"anchor-link\" href=\"#3-List\"></a></h2>\n",
    "\n",
    "A list is created by placing all the items (elements) inside square brackets `[]`, separated by commas. It can have any number of items and they may be of different types (integer, float, string etc.).\n",
    "\n",
    "<p><a id=\"definingalist\"> </a></p>\n",
    "<h3 id=\"3.1-defining-a-list\">3.1 <a href=\"#table\">Defining a list</a><a class=\"anchor-link\" href=\"#3.1-Defining-a-list\"></a></h3>"
   ]
  },
  {
   "cell_type": "markdown",
   "metadata": {},
   "source": [
    "- two ways to define a list:\n",
    "    - using `[]`. For example, `my_list = [1, \"Hello\", 3.4]`\n",
    "    - using `list(range( ))` \n",
    "        - two functions: `list( )` and `range( )`"
   ]
  },
  {
   "cell_type": "markdown",
   "metadata": {},
   "source": [
    "- range(): generate a sequence of numbers\n",
    "    - start (optional): The starting number of the sequence. The default value is 0.\n",
    "    - stop: The end of the sequence. This value is not included in the sequence.\n",
    "    - step (optional): The difference between each number in the sequence. The default value is 1."
   ]
  },
  {
   "cell_type": "markdown",
   "metadata": {},
   "source": [
    "- len(object):\n",
    "    - returns the total number of items in the object\n",
    "    - *object*: a sequence (string, list, tuple, or range) or a collection (dictionary, set, or frozen set) \n",
    "      "
   ]
  },
  {
   "cell_type": "code",
   "execution_count": 211,
   "metadata": {},
   "outputs": [
    {
     "name": "stdout",
     "output_type": "stream",
     "text": [
      "[1, 2, 3, 4, 5]\n",
      "[1, 2, 3, 4, 5]\n"
     ]
    }
   ],
   "source": [
    "# Defining a list from 1 to 5、\n",
    "# method 1: using [] \n",
    "lst1 = [1,2,3,4,5]\n",
    "print(lst1)\n",
    "\n",
    "# method 2: using list() + range(): \n",
    "lst1 = list(range(1,6))\n",
    "print(lst2)\n"
   ]
  },
  {
   "cell_type": "code",
   "execution_count": 212,
   "metadata": {},
   "outputs": [
    {
     "name": "stdout",
     "output_type": "stream",
     "text": [
      "[1, 3, 5, 7, 9]\n"
     ]
    }
   ],
   "source": [
    "# create a list of 1,3,5,7,9 - odd numbers\n",
    "lst1 = list(range(1, 10, 2))\n",
    "print(lst1)"
   ]
  },
  {
   "cell_type": "code",
   "execution_count": 213,
   "metadata": {},
   "outputs": [
    {
     "data": {
      "text/plain": [
       "5"
      ]
     },
     "execution_count": 213,
     "metadata": {},
     "output_type": "execute_result"
    }
   ],
   "source": [
    "# how many elements in the list? \n",
    "len(lst1)"
   ]
  },
  {
   "cell_type": "markdown",
   "metadata": {},
   "source": [
    "<p><a id=\"listconcatenation\"> </a></p>\n",
    "<h3 id=\"3.2-list-concatenation\">3.2 <a href=\"#table\">List concatenation</a><a class=\"anchor-link\" href=\"#3.2-List-concatenation\"></a></h3>\n",
    "\n",
    "Let’s see how to (1) concatenate (or join) two lists and (2) how to append elements to a existing list.\n",
    "\n",
    "The most conventional method to perform the list concatenation is the use of “+” operator which easily add the whole of one list behind the other list and hence perform the concatenation.\n"
   ]
  },
  {
   "cell_type": "code",
   "execution_count": 214,
   "metadata": {},
   "outputs": [
    {
     "data": {
      "text/plain": [
       "[1, 2, 3, 'hello', 'world']"
      ]
     },
     "execution_count": 214,
     "metadata": {},
     "output_type": "execute_result"
    }
   ],
   "source": [
    "# join two lists\n",
    "lst1 = [1,2,3]\n",
    "lst2 = [\"hello\", \"world\"]\n",
    "lst1 + lst2"
   ]
  },
  {
   "cell_type": "markdown",
   "metadata": {},
   "source": [
    "- **my_list.append(*item*)**\n",
    "    - adds an item to the end of the list\n",
    "    - *item*: the item to be added at the end of the list. The item can be numbers, strings, dictionaries, another list, and so on.\n",
    "        "
   ]
  },
  {
   "cell_type": "code",
   "execution_count": 221,
   "metadata": {},
   "outputs": [
    {
     "name": "stdout",
     "output_type": "stream",
     "text": [
      "[1, 2, 3, 'hello', 'world', '202406', '202406', '202406', '202406']\n"
     ]
    }
   ],
   "source": [
    "# append an element \"202406\" to a list\n",
    "lst3.append(\"202406\")\n",
    "print(lst3)"
   ]
  },
  {
   "cell_type": "markdown",
   "metadata": {},
   "source": [
    "<p><a id=\"subscriptindicesandslices\"> </a></p>\n",
    "<h3 id=\"3.3-Subscript-indices-and-slices-(IMPORTANT)\">3.3 <a href=\"#table\">Subscript indices and slices (IMPORTANT)</a><a class=\"anchor-link\" href=\"#3.3-Subscript-indices-and-slices-(IMPORTANT)\"></a></h3>"
   ]
  },
  {
   "cell_type": "markdown",
   "metadata": {},
   "source": [
    "**how to select an element or a subset of elements from a list?**\n",
    "\n",
    "\n",
    "- **indexing** means selecting an individual element in a sequence(list) using an index. \n",
    "    - An **index** denotes the position of an element in a sequence (list).\n",
    "    - To select an element of the list, we use the index operator [ ]. e.g., **my_list[*index*]**\n",
    "    - Always remember **Python index counts from 0**. See the figure in slide to understand what is an index.\n",
    "- **slicing** means selecting a **subset** of elements from a sequence (list) based on indexes.\n",
    "    - To select an subset of elements, we can use **my_list[*start* : *stop*]**, \n",
    "    - The arguments *start* and *stop* denote the corresponding index. \n",
    "    - Note that the *start* bound is included in the output. The *stop* bound is not included (generate numbers up to, but not including this number)."
   ]
  },
  {
   "cell_type": "code",
   "execution_count": 225,
   "metadata": {},
   "outputs": [
    {
     "name": "stdout",
     "output_type": "stream",
     "text": [
      "15\n",
      "a\n",
      "1000\n",
      "1000\n",
      "110\n"
     ]
    }
   ],
   "source": [
    "# indexing\n",
    "lst=[15,\"a\",14,64,75,100,110,1000] \n",
    "\n",
    "#print the first element of lst \n",
    "print(lst[0])\n",
    "\n",
    "#print the second element of lst \n",
    "print(lst[1])\n",
    "\n",
    "#print the last element of lst \n",
    "print(lst[7])\n",
    "print(lst[-1])\n",
    "\n",
    "#print the second to last element of lst\n",
    "print(lst[-2])\n"
   ]
  },
  {
   "cell_type": "markdown",
   "metadata": {},
   "source": [
    "\n",
    "##### **In class exercise** \n",
    "```python\n",
    "lst=[1,2,\"a\",3,4,5,[1,2,\"hello\"],10,11,100]\n",
    "```\n",
    "how to select the element \"hello\" from the following list?\n"
   ]
  },
  {
   "cell_type": "code",
   "execution_count": 229,
   "metadata": {},
   "outputs": [
    {
     "data": {
      "text/plain": [
       "'hello'"
      ]
     },
     "execution_count": 229,
     "metadata": {},
     "output_type": "execute_result"
    }
   ],
   "source": [
    "lst=[1,2,\"a\",3,4,5,[1,2,\"hello\"],10,11,100]\n",
    "lst[6][2]"
   ]
  },
  {
   "cell_type": "code",
   "execution_count": 232,
   "metadata": {},
   "outputs": [
    {
     "name": "stdout",
     "output_type": "stream",
     "text": [
      "[110, 1000]\n"
     ]
    }
   ],
   "source": [
    "# slicing\n",
    "lst = [15, \"a\", 14, 64, 75, 100, 110, 1000]\n",
    "\n",
    "# select [14, 64, 75]\n",
    "lst[2:5]\n",
    "\n",
    "# select the last two elements\n",
    "print(lst[-2: ])\n"
   ]
  },
  {
   "cell_type": "markdown",
   "metadata": {},
   "source": [
    "---\n",
    "##### built-in functions of list\n",
    "- **len(*my_list*)**, **max(*my_list*)**, **min(*my_list*)**, **sum(*my_list*)**\n",
    "- **my_list.index(*element*)**\n",
    "    - returns the first index of the given element in the list \n",
    "- **my_list.insert(*i*, *elem*)**\n",
    "    - inserts the specified element (elem) into the list at the given index (i), shifting all subsequent elements to the right.\n",
    "- **my_list.sort(*reverse=True/False*)**\n",
    "    - sort the list with ascending/descending order.\n",
    "- There are many other useful built-in functions, such as `.pop()` and `del`. We cannot cover all of them here. When doing your homework and final project, Google the specific functions you need, and you will find the answers.\n",
    "\n",
    "---"
   ]
  },
  {
   "cell_type": "code",
   "execution_count": 234,
   "metadata": {},
   "outputs": [
    {
     "data": {
      "text/plain": [
       "[1, 2, 3, 4, 5, 6, 7, 8, 9, 10]"
      ]
     },
     "execution_count": 234,
     "metadata": {},
     "output_type": "execute_result"
    }
   ],
   "source": [
    "# built-in functions of list\n",
    "# define a list from 1 to 10\n",
    "lst1 = list(range(1, 11))\n",
    "lst1"
   ]
  },
  {
   "cell_type": "code",
   "execution_count": 236,
   "metadata": {},
   "outputs": [
    {
     "name": "stdout",
     "output_type": "stream",
     "text": [
      "10 10 1 55\n"
     ]
    }
   ],
   "source": [
    "# len(), max(), min(), sum()\n",
    "print(len(lst1), max(lst1), min(lst1), sum(lst1))"
   ]
  },
  {
   "cell_type": "code",
   "execution_count": 237,
   "metadata": {},
   "outputs": [
    {
     "data": {
      "text/plain": [
       "0"
      ]
     },
     "execution_count": 237,
     "metadata": {},
     "output_type": "execute_result"
    }
   ],
   "source": [
    "# find the index of the element with value 1\n",
    "lst1.index(1)"
   ]
  },
  {
   "cell_type": "code",
   "execution_count": 10,
   "metadata": {},
   "outputs": [
    {
     "data": {
      "text/plain": [
       "[1000, 1, 2, 3, 4, 5, 6, 7, 8, 9, 10]"
      ]
     },
     "execution_count": 10,
     "metadata": {},
     "output_type": "execute_result"
    }
   ],
   "source": [
    "# insert 1000 at the position of the 1st index\n",
    "lst1 = list(range(1,11))\n",
    "lst1.insert(0, 1000)\n",
    "lst1"
   ]
  },
  {
   "cell_type": "code",
   "execution_count": 11,
   "metadata": {},
   "outputs": [],
   "source": [
    "# removing the value 1000 (note: only the first occurrence of element) using .remove(value)\n",
    "lst1.remove(1000)"
   ]
  },
  {
   "cell_type": "code",
   "execution_count": 24,
   "metadata": {
    "scrolled": true
   },
   "outputs": [
    {
     "name": "stdout",
     "output_type": "stream",
     "text": [
      "[10, 9, 8, 7, 6, 5, 4, 3, 2, 1]\n"
     ]
    }
   ],
   "source": [
    "# sort the list in descending order\n",
    "lst1.sort(reverse = True)\n",
    "print(lst1)"
   ]
  },
  {
   "cell_type": "markdown",
   "metadata": {},
   "source": [
    "**Note**: When we say that some functions changes the variable **inplace**, it means that the method modifies the original list directly, rather than creating and returning a new list. \n",
    "- Here, the original list lst is directly modified by `.insert()`, `.remove()`, and `.insert()`. The method does not return a new list or a copy of the list; instead, it updates the original one.\n",
    "- Inplace means the operation affects the original object."
   ]
  },
  {
   "cell_type": "markdown",
   "metadata": {},
   "source": [
    "<p><a id=\"string\"> </a></p>\n",
    "<h2 id=\"4-string\">4. <a href=\"#table\">String</a><a class=\"anchor-link\" href=\"#4-String\"></a></h2>"
   ]
  },
  {
   "cell_type": "markdown",
   "metadata": {},
   "source": [
    "- A sequence of characters, for example, \"hello world\" and \"Way2go\". \n",
    "- Can be created with single quotes ('') or double quotes (\"\") -  they are used interchangeably (e.g., “a” and ‘a’ are the same). However, we cannot create a Python string without quotes. \n",
    "\n",
    "To get access to one character or a subset of characters of a string variable. We use **indexing and slicing**"
   ]
  },
  {
   "cell_type": "code",
   "execution_count": 253,
   "metadata": {},
   "outputs": [
    {
     "name": "stdout",
     "output_type": "stream",
     "text": [
      "c\n",
      "g\n"
     ]
    }
   ],
   "source": [
    "st = 'abcdefg'\n",
    "\n",
    "# indexing: select element \"c\"\n",
    "print(st[2])\n",
    "\n",
    "# select the last element\n",
    "print(st[-1])\n"
   ]
  },
  {
   "cell_type": "code",
   "execution_count": 258,
   "metadata": {},
   "outputs": [
    {
     "name": "stdout",
     "output_type": "stream",
     "text": [
      "efg\n",
      "abc\n"
     ]
    }
   ],
   "source": [
    "# slicing: efg\n",
    "print(st[4: ])\n",
    "\n",
    "# slicing: abc\n",
    "print(st[ :3]) \n"
   ]
  },
  {
   "cell_type": "code",
   "execution_count": 261,
   "metadata": {},
   "outputs": [
    {
     "name": "stdout",
     "output_type": "stream",
     "text": [
      "hello world!\n"
     ]
    }
   ],
   "source": [
    "#  Concatenate two strings hello + world\n",
    "st1 = \"hello\"\n",
    "st2 = \"world\"\n",
    "print(st1 + ' ' + st2 + \"!\")\n"
   ]
  },
  {
   "cell_type": "markdown",
   "metadata": {},
   "source": [
    "---\n",
    "##### Built-in functions of string\n",
    "   - string shares some of the functions that we have covered in the previous sessions&mdash;**str.index()** and **len(*str*)** \n",
    "   \n",
    "   \n",
    "   - **str.replace(*old_str*,*new_str*)**\n",
    "       - replace the old substring with the new substring\n",
    "       - the function returns a copy of the string, meaning that str_1.replace(*old_str*,*new_str*) does not change the value of the original string variable *str_1*. Assign the returned copy of string to a newly-defined string variable if necessary\n",
    "\n",
    "   \n",
    "   - **str.startswith(*string*)** and **str.endswith(*string*)**\n",
    "        - str.startswith( )&mdash;returns True if a string starts with the specified prefix. If not, it returns False.\n",
    "        - str.endswith( )&mdash;returns True if a string ends with a specified suffix, if else, it returns False\n",
    "   \n",
    "   \n",
    "   - **str.isnumeric( )** and **str.isalpha( )** \n",
    "        - str.isnumeric()&mdash;checks whether the string consists of only numeric characters. It returns True/False\n",
    "        - str.isalpha()&mdash;check if all the characters are alphabet letters (a-z)\n",
    "---"
   ]
  },
  {
   "cell_type": "code",
   "execution_count": 61,
   "metadata": {},
   "outputs": [],
   "source": [
    "str1 = \"1231242523\""
   ]
  },
  {
   "cell_type": "code",
   "execution_count": 63,
   "metadata": {},
   "outputs": [
    {
     "data": {
      "text/plain": [
       "1"
      ]
     },
     "execution_count": 63,
     "metadata": {},
     "output_type": "execute_result"
    }
   ],
   "source": [
    "# .index(): The index of the value 2\n",
    "str1.index(\"2\")"
   ]
  },
  {
   "cell_type": "code",
   "execution_count": null,
   "metadata": {},
   "outputs": [],
   "source": [
    "# how to return all indices for characters with value \"2\"? \n",
    "\n"
   ]
  },
  {
   "cell_type": "code",
   "execution_count": null,
   "metadata": {},
   "outputs": [],
   "source": []
  },
  {
   "cell_type": "code",
   "execution_count": 64,
   "metadata": {},
   "outputs": [],
   "source": [
    "str2 = \"  December 30th, 2020  \""
   ]
  },
  {
   "cell_type": "code",
   "execution_count": 68,
   "metadata": {
    "scrolled": true
   },
   "outputs": [
    {
     "name": "stdout",
     "output_type": "stream",
     "text": [
      "  December 30th, 2024  \n"
     ]
    }
   ],
   "source": [
    "# str.replace(old,new): replace 2020 with 2024\n",
    "# str.replace() does not change the value of the original string variable (str2)\n",
    "str3 = str2.replace(\"2020\", \"2024\")\n",
    "print(str3)"
   ]
  },
  {
   "cell_type": "markdown",
   "metadata": {},
   "source": [
    "Note: For a string variable, value cannot be changed in place. \n",
    "- The `str.replace()` method returns a new string with the replacement applied, but it does not modify str2 itself."
   ]
  },
  {
   "cell_type": "code",
   "execution_count": 69,
   "metadata": {},
   "outputs": [
    {
     "name": "stdout",
     "output_type": "stream",
     "text": [
      "December30th,2020\n"
     ]
    }
   ],
   "source": [
    "# remove all white spaces\n",
    "str4 = str2.replace(\" \", \"\")\n",
    "print(str4)"
   ]
  },
  {
   "cell_type": "code",
   "execution_count": 70,
   "metadata": {},
   "outputs": [
    {
     "name": "stdout",
     "output_type": "stream",
     "text": [
      "December30th,2024\n"
     ]
    }
   ],
   "source": [
    "# integrate these steps: replace 2020 with 2024 and remove whitespaces\n",
    "str_combine = str2.replace(\"2020\", \"2024\").replace(\" \", \"\")\n",
    "print(str_combine)"
   ]
  },
  {
   "cell_type": "markdown",
   "metadata": {},
   "source": [
    "<p><a id=\"dictionary\"> </a></p>\n",
    "<h2 id=\"5-dictionary\">5. <a href=\"#table\">Dictionary</a><a class=\"anchor-link\" href=\"#5-dictionary\"></a></h2>"
   ]
  },
  {
   "cell_type": "markdown",
   "metadata": {},
   "source": [
    "A dictionary in Python is an **unordered collection** of data values. Unlike other Data Types that hold only single value as an element, Dictionary can hold **key-value pair**. It is useful for mapping relationships, such as storing country names with their capitals or product names with their prices.\n",
    "- Creating a dictionary is as simple as placing items inside curly brackets { } separated by commas. e.g., **dic={'a': 1, 'b':2, 'g':\"hello\", 'str1':\"12345\"}**\n",
    "- An item has a key and a corresponding value that is expressed as a pair (key: value) e.g., **'a': 1, 'b':2**.\n",
    "- While the **values can be of any data type and can repeat**, **keys must be unique**.\n",
    "\n",
    "In the following demonstration, we will cover the following topics:\n",
    "- defining a dictionary\n",
    "- adding and changing an element (key + value) in a dictionary\n",
    "- accessing elements in a dictionary. \n",
    "    - built-in functions: `dict.get(key)`, `dict.keys()`, `dict.values()`, `dict.items()`"
   ]
  },
  {
   "cell_type": "markdown",
   "metadata": {},
   "source": [
    "**defining a dictionary** "
   ]
  },
  {
   "cell_type": "code",
   "execution_count": 71,
   "metadata": {},
   "outputs": [
    {
     "name": "stdout",
     "output_type": "stream",
     "text": [
      "{'New_York': ['8336817', '301.5'], 'Los_Angeles': ['3979576', '468.7'], 'Chicago': ['2693976', '227.3'], 'Houston': '2100263'}\n"
     ]
    }
   ],
   "source": [
    "dic = dict(New_York = [\"8336817\",\"301.5\"], \n",
    "           Los_Angeles = [\"3979576\",\"468.7\"], \n",
    "           Chicago = [\"2693976\",\"227.3\"], \n",
    "           Houston = '2100263')\n",
    "print(dic)"
   ]
  },
  {
   "cell_type": "markdown",
   "metadata": {},
   "source": [
    "**adding and changing an element (key + value) in a dictionary**"
   ]
  },
  {
   "cell_type": "code",
   "execution_count": 74,
   "metadata": {},
   "outputs": [
    {
     "data": {
      "text/plain": [
       "{'New_York': ['8336817', '301.5'],\n",
       " 'Los_Angeles': ['3979576', '468.7'],\n",
       " 'Chicago': ['2693976', '227.3'],\n",
       " 'Houston': ['2,100,263', '637.5'],\n",
       " 'Phoenix': ['1,680,992', '517.6']}"
      ]
     },
     "execution_count": 74,
     "metadata": {},
     "output_type": "execute_result"
    }
   ],
   "source": [
    "# add an element - Phoenix: ['1,680,992','517.6']\n",
    "dic[\"Phoenix\"] = ['1,680,992','517.6']\n",
    "\n",
    "# change an element - Houston: ['2,100,263','637.5']\n",
    "dic[\"Houston\"] = ['2,100,263','637.5']\n",
    "dic"
   ]
  },
  {
   "cell_type": "markdown",
   "metadata": {},
   "source": [
    "**Accessing elements in a dictionary**"
   ]
  },
  {
   "cell_type": "code",
   "execution_count": 75,
   "metadata": {},
   "outputs": [
    {
     "data": {
      "text/plain": [
       "['8336817', '301.5']"
      ]
     },
     "execution_count": 75,
     "metadata": {},
     "output_type": "execute_result"
    }
   ],
   "source": [
    "# dic.get(key): get the value based on a specified key, if the key is non-existent, it returns None\n",
    "dic.get(\"New_York\")"
   ]
  },
  {
   "cell_type": "code",
   "execution_count": 78,
   "metadata": {},
   "outputs": [
    {
     "data": {
      "text/plain": [
       "['New_York', 'Los_Angeles', 'Chicago', 'Houston', 'Phoenix']"
      ]
     },
     "execution_count": 78,
     "metadata": {},
     "output_type": "execute_result"
    }
   ],
   "source": [
    "# dic.keys(): Get all the keys and return a dict_key object\n",
    "list(dic.keys())"
   ]
  },
  {
   "cell_type": "code",
   "execution_count": 79,
   "metadata": {},
   "outputs": [
    {
     "data": {
      "text/plain": [
       "[['8336817', '301.5'],\n",
       " ['3979576', '468.7'],\n",
       " ['2693976', '227.3'],\n",
       " ['2,100,263', '637.5'],\n",
       " ['1,680,992', '517.6']]"
      ]
     },
     "execution_count": 79,
     "metadata": {},
     "output_type": "execute_result"
    }
   ],
   "source": [
    "# dic.values(): Get all the values and return a dict_value object\n",
    "# convert the dict_value object to list\n",
    "list(dic.values())\n"
   ]
  },
  {
   "cell_type": "markdown",
   "metadata": {},
   "source": [
    "**Combine two list into a dictionary**"
   ]
  },
  {
   "cell_type": "code",
   "execution_count": 80,
   "metadata": {},
   "outputs": [
    {
     "name": "stdout",
     "output_type": "stream",
     "text": [
      "{'New York': ['8336817', '301.5'], 'Los Angeles': ['3979576', '468.7'], 'Chicago': ['2693976', '227.3'], 'Houston': ['2,100,263', '637.5']}\n"
     ]
    }
   ],
   "source": [
    "lst_1 = ['New York','Los Angeles','Chicago','Houston'] \n",
    "lst_2 = [[\"8336817\",\"301.5\"], [\"3979576\",\"468.7\"], [\"2693976\",\"227.3\"], ['2,100,263','637.5']]\n",
    "\n",
    "# zip: create dictionaries by combining a list of keys with a list of values.\n",
    "# pair elements from two lists (lst_1 and lst_2) element by element\n",
    "dic_combine = dict(zip(lst_1, lst_2))\n",
    "print(dic_combine)"
   ]
  },
  {
   "cell_type": "markdown",
   "metadata": {},
   "source": [
    "Note: The `zip()` function pairs elements from two lists (lst_1 and lst_2) into tuples, which are then converted into a dictionary using dict().\n",
    "\n",
    "1. `zip(lst_1, lst_2)` pairs elements by index:\n",
    "```python\n",
    "[('New York', 8336817), ('Los Angeles', 3979576), ('Chicago', 2693976)]`\n",
    "```\n",
    "2. `dict(zip(lst_1, lst_2))` converts this into a dictionary:\n",
    "```python\n",
    "{\"New York\": 8336817,\n",
    " \"Los Angeles\": 3979576,\n",
    " \"Chicago\": 2693976\n",
    "}\n",
    "```"
   ]
  },
  {
   "cell_type": "markdown",
   "metadata": {},
   "source": [
    "<p><a id=\"ifstatement\"> </a></p>\n",
    "<h2 id=\"6.-if-statement\">6. <a href=\"#table\">if statement</a><a class=\"anchor-link\" href=\"#6.-if-statement\"></a></h2>"
   ]
  },
  {
   "cell_type": "markdown",
   "metadata": {},
   "source": [
    "The if statement is frequently used when we want to execute a part of code (or make certain decision) only if a certain condition is satisfied. \n",
    "\n",
    "Three common structures of if statement: \n",
    "\n",
    "#### 1. if statement:\n",
    "    if CS:\n",
    "        DM that satisfies the CS\n",
    "    \n",
    "- Conditional statement (CS); Decision Making (DM)\n",
    "- Will execute the DM only if the CS is True; otherwise, DM will not be executed.\n",
    "- **Indentation**: define the scope of for-loops, conditionals, functions, and other blocks of code. It indicates which lines of code are associated with specific statements or structures.\n",
    "- An indented block of code follows the condition in an if statement. The first line that is not indented indicates the end of the code block.\n",
    "- **Press TAB for an indentation, Press Shift+TAB to remove an indentation**. An indentation equals to 4 whitespace.\n",
    "\n",
    "  \n",
    "#### 2. if...else statement\n",
    "    if CS1:\n",
    "        DM1 that satisfies the CS1\n",
    "    else: \n",
    "        DM2 that satisfies the else condition\n",
    "- If the CS1 is true, DM1 block will be executed. \n",
    "- If the CS1 is False, DM2 will be executed. \n",
    "- Each DM is indicated by an indentation. \n",
    "\n",
    "#### 3. The if...elif...(elif)...else statement \n",
    "    if CS1:\n",
    "        DM1 that satisfies the CS1\n",
    "    elif CS2:\n",
    "        DM2 that satisfies the CS2\n",
    "    elif CS3:\n",
    "        DM3 that satisfies the CS3\n",
    "    else: \n",
    "        DM4 that satisfies the else condition\n",
    "- You can make many \"elif CS\" depending on how many DMs you have. \n",
    "- in if...elif...(elif)...else statement,\n",
    "    - there is only **one** `if` as the start statement.\n",
    "    - there can only be **one** `else` block, and it must be at the end.\n",
    "    - \"else\" is not mandatory."
   ]
  },
  {
   "cell_type": "code",
   "execution_count": 81,
   "metadata": {},
   "outputs": [
    {
     "name": "stdout",
     "output_type": "stream",
     "text": [
      "this list does not have 10 elements\n"
     ]
    }
   ],
   "source": [
    "# if...else: lst = list(range(0,11)), check if the lst has 10 elements\n",
    "lst = list(range(0, 11))\n",
    "\n",
    "if len(lst) == 10: \n",
    "    print(\"this list has 10 elements\")\n",
    "else:\n",
    "    print(\"this list does not have 10 elements\")"
   ]
  },
  {
   "cell_type": "markdown",
   "metadata": {
    "slideshow": {
     "slide_type": "-"
    }
   },
   "source": [
    "<p><a id=\"loop(forstatement)\"> </a></p>\n",
    "<h2 id=\"7-loop-(for-statement)\">7. <a href=\"#table\">for-loop</a><a class=\"anchor-link\" href=\"#7-loop-(for-statement)\"></a></h2>"
   ]
  },
  {
   "cell_type": "markdown",
   "metadata": {},
   "source": [
    "- A for-loop structure is used for iterating over a sequence."
   ]
  },
  {
   "cell_type": "markdown",
   "metadata": {},
   "source": [
    "##### Example 1: print out all the numbers from 10-20\n",
    "   - Method 1: loop over each element in the list\n",
    "   - Method 2: loop over the **index** of each element using `len()` and `range()`\n"
   ]
  },
  {
   "cell_type": "code",
   "execution_count": 82,
   "metadata": {},
   "outputs": [
    {
     "name": "stdout",
     "output_type": "stream",
     "text": [
      "10\n",
      "11\n",
      "12\n",
      "13\n",
      "14\n",
      "15\n",
      "16\n",
      "17\n",
      "18\n",
      "19\n",
      "20\n"
     ]
    }
   ],
   "source": [
    "# Method 1: loop over each element in the list\n",
    "lst = list(range(10, 21))\n",
    "\n",
    "for i in lst:\n",
    "    print(i)"
   ]
  },
  {
   "cell_type": "code",
   "execution_count": 83,
   "metadata": {},
   "outputs": [
    {
     "name": "stdout",
     "output_type": "stream",
     "text": [
      "10\n",
      "11\n",
      "12\n",
      "13\n",
      "14\n",
      "15\n",
      "16\n",
      "17\n",
      "18\n",
      "19\n",
      "20\n"
     ]
    }
   ],
   "source": [
    "# Method 2: loop over the index of each element using len() and range()\n",
    "lst = list(range(10,21))\n",
    "\n",
    "for i in range(len(lst)):\n",
    "    print(lst[i])\n"
   ]
  },
  {
   "cell_type": "markdown",
   "metadata": {},
   "source": [
    "##### Example 2: print all the odd numbers between 10 to 20"
   ]
  },
  {
   "cell_type": "code",
   "execution_count": 85,
   "metadata": {},
   "outputs": [
    {
     "name": "stdout",
     "output_type": "stream",
     "text": [
      "11\n",
      "13\n",
      "15\n",
      "17\n",
      "19\n",
      "11\n",
      "13\n",
      "15\n",
      "17\n",
      "19\n"
     ]
    }
   ],
   "source": [
    "# using 1. loop over value method, and 2. loop over indexes methods.\n",
    "lst = list(range(10, 21))\n",
    "\n",
    "for i in lst:\n",
    "    if i % 2 == 1:\n",
    "        print(i)\n",
    "\n",
    "for i in range(len(lst)):\n",
    "    if lst[i] % 2 == 1:\n",
    "        print(lst[i])\n",
    "        "
   ]
  },
  {
   "cell_type": "markdown",
   "metadata": {},
   "source": [
    "##### Example 3: sum up all the numbers between 50 to 100 using for loop"
   ]
  },
  {
   "cell_type": "code",
   "execution_count": 86,
   "metadata": {},
   "outputs": [
    {
     "name": "stdout",
     "output_type": "stream",
     "text": [
      "3825\n"
     ]
    }
   ],
   "source": [
    "# example 3: sum up all the numbers between 50 to 100 using for loop\n",
    "a = list(range(50, 101))\n",
    "\n",
    "s = 0\n",
    "\n",
    "for i in a:\n",
    "    s = s + i\n",
    "print(s)\n",
    "\n",
    "\n",
    "# loop over elements\n",
    "# round 1, i = 50, sum_up = 0\n",
    "# result: sum_up = 50\n",
    "\n",
    "# round 2, i = 51, sum_up = 50\n",
    "# result: sum_up = 101\n",
    "\n",
    "# round 3: i = 52, sum_up = 101\n",
    "# result: sum_up = 153\n"
   ]
  },
  {
   "cell_type": "markdown",
   "metadata": {},
   "source": [
    "<p><a id=\"loopcontrolstatements:continueandbreak\"> </a></p>\n",
    "<h3 id=\"7.1-Loop-control-statements:-continue-and-break (Optional)\">7.1 <a href=\"#table\">Control statements of a loop: continue and break</a><a class=\"anchor-link\" href=\"#7.1-Loop-control-statements:-continue-and-break (Optional)\">¶</a></h3>"
   ]
  },
  {
   "attachments": {},
   "cell_type": "markdown",
   "metadata": {},
   "source": [
    "- break statement \n",
    "    - it terminates the entire loop, skipping any remaining iterations, and jumps to the next code block outside the for-loop.\n",
    "    - if the break statement is inside a nested loop, the break statement will terminate the innermost loop.\n",
    "- continue statement\n",
    "    - it skips the rest of the current iteration, and moves directly to the next iteration of the for-loop.\n",
    "\n"
   ]
  },
  {
   "cell_type": "code",
   "execution_count": 90,
   "metadata": {},
   "outputs": [
    {
     "name": "stdout",
     "output_type": "stream",
     "text": [
      "0\n",
      "1\n",
      "2\n"
     ]
    }
   ],
   "source": [
    "# example of break: j = 0-5, the loop ends when j == 3\n",
    "j = list(range(0, 6))\n",
    "\n",
    "for i in j:\n",
    "    if i == 3:\n",
    "        break\n",
    "    print(i)\n"
   ]
  },
  {
   "cell_type": "code",
   "execution_count": 91,
   "metadata": {},
   "outputs": [
    {
     "name": "stdout",
     "output_type": "stream",
     "text": [
      "0\n",
      "1\n",
      "2\n",
      "4\n",
      "5\n"
     ]
    }
   ],
   "source": [
    "# example of continue: \n",
    "for i in j:\n",
    "    if i == 3:\n",
    "        continue\n",
    "    print(i)\n"
   ]
  },
  {
   "cell_type": "markdown",
   "metadata": {},
   "source": [
    "<p><a id=\"thenestedloop(loopinsideanotherloop)\"> </a></p>\n",
    "<h3 id=\"7.2-The-nested-loop-(loop-inside-another-loop)\">7.2 <a href=\"#table\">The nested loop (loop inside another loop)</a><a class=\"anchor-link\" href=\"#7.2-The-nested-loop-(loop-inside-another-loop)\">¶</a></h3>"
   ]
  },
  {
   "cell_type": "markdown",
   "metadata": {},
   "source": [
    "- a nested loop with 2 levels is very common;\n",
    "\n",
    "```python\n",
    "for i in range(2):        -level 1\n",
    "    for j in range(3):    -level 2\n",
    "```\n",
    "\n",
    "- using more than 2 levels is not recommended. That kind of structure will make the code very hard to read and debug.\n",
    "\n",
    "```python\n",
    "for x in range(2):          -level 1\n",
    "    for y in range(3):      -level 2\n",
    "        for z in range(4):  -level 3\n",
    "```"
   ]
  },
  {
   "cell_type": "code",
   "execution_count": 92,
   "metadata": {},
   "outputs": [
    {
     "name": "stdout",
     "output_type": "stream",
     "text": [
      "0 0\n",
      "0 1\n",
      "0 2\n",
      "1 0\n",
      "1 1\n",
      "1 2\n"
     ]
    }
   ],
   "source": [
    "# a simple example of nested for loop # i = 0,1; # j = 0,1,2\n",
    "for i in range(2):\n",
    "    for j in range(3):\n",
    "        print(i, j)"
   ]
  },
  {
   "cell_type": "markdown",
   "metadata": {},
   "source": [
    "<p><a id=\"definingfunctions\"> </a></p>\n",
    "<h2 id=\"8definingfunctions\">8. <a href=\"#table\">Defining functions</a><a class=\"anchor-link\" href=\"#8definingfunctions\"></a></h2>\n",
    "\n",
    "We have introduced many built-in functions (e.g., print, len, int, etc.) and methods (.insert(), .remove()) that can be used directly. However, sometimes we also want to define a customized function to meet our specific demand. In this section, we will take two examples to briefly introduce the self-defined functions in Python. "
   ]
  },
  {
   "cell_type": "markdown",
   "metadata": {},
   "source": [
    "To convert a temperature from Fahrenheit (°F) to Celsius (°C), use the following formula:\n",
    "\n",
    "$C = \\frac{5}{9} \\times (F - 32)$\n",
    "\n",
    "Where:\n",
    "\n",
    "- $C$ is the temperature in Celsius.\n",
    "- $F$ is the temperature in Fahrenheit."
   ]
  },
  {
   "cell_type": "code",
   "execution_count": 93,
   "metadata": {},
   "outputs": [
    {
     "name": "stdin",
     "output_type": "stream",
     "text": [
      "Enter temperature in fahrenheit:  42353\n"
     ]
    },
    {
     "name": "stdout",
     "output_type": "stream",
     "text": [
      "23511.666666666668\n"
     ]
    }
   ],
   "source": [
    "# example 1: transform fahrenheit degree to celsius degree\n",
    "def fah2cel(fahrenheit):\n",
    "    celsius = (fahrenheit - 32) * 5/9\n",
    "    print(celsius)\n",
    "fah2cel(float(input(\"Enter temperature in fahrenheit: \")))"
   ]
  },
  {
   "cell_type": "code",
   "execution_count": 136,
   "metadata": {},
   "outputs": [
    {
     "data": {
      "text/plain": [
       "45.6"
      ]
     },
     "execution_count": 136,
     "metadata": {},
     "output_type": "execute_result"
    }
   ],
   "source": [
    "# example 2: Return the maximum of three values\n",
    "def maximum(value1, value2, value3):\n",
    "    \"\"\"Return the maximum of three values\"\"\"\n",
    "    max_value = value1\n",
    "    if value2 > max_value:\n",
    "        max_value = value2\n",
    "    if value3 > max_value:\n",
    "        max_value = value3\n",
    "    return max_value\n",
    "\n",
    "maximum(12.3, 45.6, 9.7)"
   ]
  },
  {
   "cell_type": "markdown",
   "metadata": {},
   "source": [
    "### in-class exercise (due Jan 30th)"
   ]
  },
  {
   "cell_type": "markdown",
   "metadata": {},
   "source": [
    "---\n",
    "**(1) exercise with list** \n",
    "```python\n",
    "lst = [15,\"a\",14,64,75,100,110,1000]\n",
    "```\n",
    "select a subset [15,\"a\", 14, 64,75, 100, 110] and named it `lst_subset`\n",
    "\n"
   ]
  },
  {
   "cell_type": "markdown",
   "metadata": {},
   "source": [
    "\n",
    "**(2) exercise with string**\n",
    "```python\n",
    "str1 = 'abcdefg'\n",
    "```\n",
    "select a subset from str1 and named `str2`\n"
   ]
  },
  {
   "cell_type": "markdown",
   "metadata": {},
   "source": [
    "**(3) exercise with string**\n",
    "\n",
    "`str1 = \"      PM25_20141205     \"` <br>\n",
    "get rid of the prefix \"PM25_\" and whitespace for str1, and name the new string variable str2"
   ]
  },
  {
   "cell_type": "markdown",
   "metadata": {},
   "source": [
    "**(4) Use for-loop and if statement to complete the following task**\n",
    "\n",
    "You have a list of cities with their temperatures attached:\n",
    "city_temps = [\"New York\", 85, \"Los Angeles\", 75, \"Chicago\", 55]\n",
    "\n",
    "Mark the temperatures greater than 80 as \"Hot\",\n",
    "temperatures between 60 to 80 as \"Warm\",\n",
    "and temperatures less than 60 as \"Cold\".\n",
    "\n",
    "Print out the new list:\n",
    "city_temps = [\"New York\", \"Hot\", \"Los Angeles\", \"Warm\", \"Chicago\", \"Cold\"]"
   ]
  },
  {
   "cell_type": "markdown",
   "metadata": {},
   "source": [
    "**(5) exercise with if statement**: \n",
    "\n",
    "Designing a Function to Convert Weight from Pounds to Kilograms.\n",
    "- weight_in_kilograms=weight_in_pounds×0.45359237"
   ]
  }
 ],
 "metadata": {
  "kernelspec": {
   "display_name": "Python 3 (ipykernel)",
   "language": "python",
   "name": "python3"
  },
  "language_info": {
   "codemirror_mode": {
    "name": "ipython",
    "version": 3
   },
   "file_extension": ".py",
   "mimetype": "text/x-python",
   "name": "python",
   "nbconvert_exporter": "python",
   "pygments_lexer": "ipython3",
   "version": "3.9.21"
  }
 },
 "nbformat": 4,
 "nbformat_minor": 4
}
