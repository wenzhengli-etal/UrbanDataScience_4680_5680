{
 "cells": [
  {
   "cell_type": "markdown",
   "metadata": {},
   "source": [
    "## Lab 9: Integrating ArcGIS Pro with Python  \n",
    "\n",
    "In this Lab, we will introduce how to invoke the ArcGIS geoprocessing functions in the ArcPy package to run a set of spatial statistics methods we introduced this semester, including the spatial clustering analysis, OLS and GWR regressions, and the spatial interpolation methods. ArcPy also facilitates geoprocessing efficiency and allows for batch processing with hundreds of shapefiles as well. \n",
    "\n",
    "Through this week, you will use the ArcPy package to: \n",
    "- (1) understand how to invoke the appropriate ArcPy functions by reading the tool reference;\n",
    "- (2) run the ESDA (Exploratory Spatial Data Analysis) tools, such as the Global Moran's I index, Local Moran's I index, and the hot spot analysis;\n",
    "- (3) run the OLS and GWR regressions;\n",
    "- (4) run the spatial interpolation functions;\n",
    "- (5) automate your geoprocessing tools using for-loop and ArcPy."
   ]
  },
  {
   "cell_type": "markdown",
   "metadata": {},
   "source": [
    "### 1. Setting geoprocessing environments"
   ]
  },
  {
   "cell_type": "code",
   "execution_count": 1,
   "metadata": {},
   "outputs": [],
   "source": [
    "# set geoprocessing environments\n"
   ]
  },
  {
   "cell_type": "markdown",
   "metadata": {},
   "source": [
    "### 2. Clustering Analysis"
   ]
  },
  {
   "cell_type": "markdown",
   "metadata": {},
   "source": [
    "\n",
    "Recall that ArcGIS provides statistical cluster analysis tools that you can use to minimize the subjectivity in your maps. The Hot Spot Analysis and Cluster and Outlier Analysis tools both use statistics to detect spatial patterns in your data, but they provide slightly different information about these patterns.\n",
    "\n",
    "- Hot Spot Analysis tools use the Getis-Ord Gi* statistic to identify spatial clusters of statistically significant clusters of high values (hot spots) and low values (cold spots).\n",
    "\n",
    "- Cluster and Outlier Analysis tools use the Anselin Local Moran's I statistic to identify statistically significant hot spots, cold spots, and spatial outliers. Spatial outliers are significantly dissimilar from their neighboring features.\n",
    "\n",
    "We will use the socialmedia dataset to identify the clusters of counties with high social media usage. \n",
    "\n",
    "#### Now, Let us first run the Global Moran's I: "
   ]
  },
  {
   "cell_type": "code",
   "execution_count": null,
   "metadata": {},
   "outputs": [],
   "source": [
    "# Global Moran'I"
   ]
  },
  {
   "cell_type": "markdown",
   "metadata": {},
   "source": [
    "#### Local Moran's I (Cluster and outlier analysis)"
   ]
  },
  {
   "cell_type": "markdown",
   "metadata": {},
   "source": [
    "arcpy.stats.ClustersOutliers(Input_Feature_Class, Input_Field, Output_Feature_Class, Conceptualization_of_Spatial_Relationships, Distance_Method, Standardization, {Distance_Band_or_Threshold_Distance}, {Weights_Matrix_File}, {Apply_False_Discovery_Rate__FDR__Correction}, {Number_of_Permutations}, {number_of_neighbors})"
   ]
  },
  {
   "cell_type": "code",
   "execution_count": 8,
   "metadata": {},
   "outputs": [
    {
     "data": {
      "text/html": [
       "<h2>Output</h2><table><tr><th>id</th><th>value</th></tr><tr><td>0</td><td>C:\\Users\\Lwz12\\Desktop\\Lab9\\\\output\\somedia_local.shp</td></tr><tr><td>1</td><td>LMiIndex</td></tr><tr><td>2</td><td>LMiZScore</td></tr><tr><td>3</td><td>LMiPValue</td></tr><tr><td>4</td><td>COType</td></tr><tr><td>5</td><td>FID</td></tr></table><h2>Messages</h2>Start Time: Sunday, April 10, 2022 11:22:47 PM<br/>Succeeded at Sunday, April 10, 2022 11:22:51 PM (Elapsed Time: 3.90 seconds)<br/><style>.rendered_html td, .rendered_html th {text-align: left;}.rendered_html tbody {border: 1px solid black;}</style>"
      ],
      "text/plain": [
       "<Result 'C:\\\\Users\\\\Lwz12\\\\Desktop\\\\Lab9\\\\\\\\output\\\\somedia_local.shp'>"
      ]
     },
     "execution_count": 8,
     "metadata": {},
     "output_type": "execute_result"
    }
   ],
   "source": [
    "Input_Feature_Class = \"/Lab9_data/socialmedia_northeast/socialmedia_ne.shp\"\n",
    "Input_Field = \"Pct_Facebo\"\n",
    "Output_Feature_Class = \"/output/somedia_local.shp\"\n",
    "Spatial_matrix = \"CONTIGUITY_EDGES_CORNERS\"\n",
    "Distance_Method = \"EUCLIDEAN_DISTANCE\"\n",
    "Standardization = \"ROW\"\n",
    "FDR = \"NO_FDR\"\n",
    "Permutations = 499\n",
    "\n",
    "arcpy.ClustersOutliers_stats(Input_Feature_Class, Input_Field, \n",
    "                             Output_Feature_Class,\n",
    "                             Spatial_matrix, Distance_Method, \n",
    "                             Standardization, \"#\", \"#\", FDR, Permutations)\n",
    "\n",
    "# arcpy.ClustersOutliers_stats(\"socialmedia/County_socialmedia.shp\", \"Pct_Facebo\", \n",
    "#                              \"socialmedia/LISA_output.shp\",\n",
    "#                              \"CONTIGUITY_EDGES_CORNERS\",\"EUCLIDEAN_DISTANCE\", \n",
    "#                              \"ROW\", \"#\", \"#\", \"NO_FDR\", 499)"
   ]
  },
  {
   "cell_type": "markdown",
   "metadata": {},
   "source": [
    "#### Hot Spot Analysis"
   ]
  },
  {
   "cell_type": "code",
   "execution_count": 14,
   "metadata": {},
   "outputs": [
    {
     "data": {
      "text/html": [
       "<h2>Output</h2><table><tr><th>id</th><th>value</th></tr><tr><td>0</td><td>D:\\TA_CRP5680_UrbanDataSci\\Lab9\\Lab9_data_demo\\\\Lab9_data_output\\somedia_HS.shp</td></tr><tr><td>1</td><td>GiZScore</td></tr><tr><td>2</td><td>GiPValue</td></tr><tr><td>3</td><td>FID</td></tr></table><h2>Messages</h2>Start Time: Sunday, April 3, 2022 9:15:47 PM<br/>Succeeded at Sunday, April 3, 2022 9:15:52 PM (Elapsed Time: 5.16 seconds)<br/><style>.rendered_html td, .rendered_html th {text-align: left;}.rendered_html tbody {border: 1px solid black;}</style>"
      ],
      "text/plain": [
       "<Result 'D:\\\\TA_CRP5680_UrbanDataSci\\\\Lab9\\\\Lab9_data_demo\\\\\\\\Lab9_data_output\\\\somedia_HS.shp'>"
      ]
     },
     "execution_count": 14,
     "metadata": {},
     "output_type": "execute_result"
    }
   ],
   "source": [
    "arcpy.HotSpots_stats(\"/socialmedia_northeast/socialmedia_ne.shp\", \"Pct_Facebo\", \"/Lab9_data_output/somedia_HS.shp\",\n",
    "                     \"CONTIGUITY_EDGES_CORNERS\", \"EUCLIDEAN_DISTANCE\", \n",
    "                     \"ROW\", \"#\", \"#\", \"#\", \"NO_FDR\")"
   ]
  },
  {
   "cell_type": "markdown",
   "metadata": {},
   "source": [
    "### 3. Regressions using ArcGIS Pro Python\n",
    "\n",
    "Let us now try to run the OLS and GWR regressions using Arcpy built-in functions and the Beijing housing dataset. The regressions require the dataset to be in specific format and therefore, require data processing before the regression analysis. \n",
    "- We can read the dataset (in .shp) as a Spatially Enabled DataFrame (SEDF) by invoking the function called `pd.DataFrame.spatial.from_featureclass()`. The function read a `.shapefile` into ArcGIS Python and convert it to a spatial Dataframe. \n",
    "\n",
    "- Similarly, we can use the `.spatial.to_featureclass` to convert the spatially Enabled DataFrame (SEDF) to shapefile and save it in a file folder. \n",
    "\n",
    "- See more about SEDF at https://developers.arcgis.com/python/guide/introduction-to-the-spatially-enabled-dataframe/\n",
    "\n",
    "Now we read the Beijing resale housing price dataset (.shp) into Python, categorizes the data into two parts -- houisng sales in urban core area and housing sales in the sururbs. Then we run OLS for each of them separately by using for-loop. \n",
    "\n",
    "#### 3.1 OLS"
   ]
  },
  {
   "cell_type": "code",
   "execution_count": null,
   "metadata": {},
   "outputs": [],
   "source": []
  },
  {
   "cell_type": "code",
   "execution_count": 10,
   "metadata": {},
   "outputs": [],
   "source": [
    "#### Categorize the data into two parts: the urban core and the suburban area.\n",
    "urban_core_lst = [\"Dongcheng\", \"Xicheng\", \"Chaoyang\", \"Haidian\", \"Fengtai\", \"Shijingshan\"]\n",
    "\n",
    "gdf_core = gdf.loc[(gdf[\"disname_en\"].isin(urban_core_lst)), :]\n",
    "gdf_core[\"hid\"] = gdf[\"FID\"]\n",
    "\n",
    "gdf_sub = gdf.loc[~(gdf[\"disname_en\"].isin(urban_core_lst)), :]\n",
    "gdf_sub[\"hid\"] = gdf[\"FID\"]"
   ]
  },
  {
   "cell_type": "code",
   "execution_count": 16,
   "metadata": {},
   "outputs": [
    {
     "name": "stderr",
     "output_type": "stream",
     "text": [
      "C:\\Program Files\\ArcGIS\\Pro\\bin\\Python\\envs\\arcgispro-py3\\Lib\\site-packages\\pandas\\core\\indexing.py:1720: SettingWithCopyWarning: \n",
      "A value is trying to be set on a copy of a slice from a DataFrame.\n",
      "Try using .loc[row_indexer,col_indexer] = value instead\n",
      "\n",
      "See the caveats in the documentation: https://pandas.pydata.org/pandas-docs/stable/user_guide/indexing.html#returning-a-view-versus-a-copy\n",
      "  self._setitem_single_column(loc, value, pi)\n"
     ]
    },
    {
     "data": {
      "text/plain": [
       "'C:\\\\Users\\\\Lwz12\\\\Desktop\\\\Lab9\\\\output\\\\housing_sub.shp'"
      ]
     },
     "execution_count": 16,
     "metadata": {},
     "output_type": "execute_result"
    }
   ],
   "source": [
    "gdf_core.spatial.to_featureclass(workspace + \"/output/housing_core.shp\")\n",
    "gdf_sub.spatial.to_featureclass(workspace + \"/output/housing_sub.shp\")"
   ]
  },
  {
   "cell_type": "code",
   "execution_count": null,
   "metadata": {},
   "outputs": [],
   "source": []
  },
  {
   "cell_type": "markdown",
   "metadata": {},
   "source": [
    "## 3.2 GWR\n",
    "\n",
    "Let us run a GWR regression using Arcpy and the whole housing dataset."
   ]
  },
  {
   "cell_type": "code",
   "execution_count": 33,
   "metadata": {},
   "outputs": [
    {
     "data": {
      "text/html": [
       "<h2>Output</h2><table><tr><th>id</th><th>value</th></tr><tr><td>0</td><td>D:\\TA_CRP5680_UrbanDataSci\\Lab9\\Lab9_data_demo\\\\Lab9_data_output\\result_GWR.shp</td></tr><tr><td>1</td><td></td></tr><tr><td>2</td><td></td></tr></table><h2>Messages</h2>Start Time: Sunday, April 3, 2022 11:49:00 PM<br/>WARNING 001605: Distances for Geographic Coordinates (degrees, minutes, seconds) are analyzed using Chordal Distances in meters.<br/>WARNING 110251: 1853 locations with coincident features should be considered carefully when interpreting the results of this tool.<br/><br/>----- Golden Search Results -----<br/>Distance Band (Meters)        AICc<br/>10993.8206             217014.4081<br/>28218.0150             217705.0929<br/>17572.8774             217410.5571<br/>21638.9582             217547.5813<br/>15059.9013             217296.7685<br/>13506.7967             217207.2621<br/>12546.9252             217142.0554<br/>11953.6920             217096.8172<br/>11587.0537             217066.7003<br/>11360.4588             217047.2696<br/>11220.4155             217034.9384<br/>11133.8639             217027.1884<br/>11080.3721             217022.3459<br/>11047.3124             217019.3293<br/>11026.8803             217017.4552<br/>11014.2526             217016.2933<br/>11006.4483             217015.5740<br/>11001.6249             217015.1289<br/>10998.6439             217014.8537<br/>10996.8016             217014.6835<br/>10995.6629             217014.5783<br/>10994.9592             217014.5133<br/>---------------------------------<br/><br/>WARNING 110306: The final model didn't have the lowest AICc encountered in the Golden Search Results.<br/>WARNING 110259: At least one local regression had very limited variation after applying the weights. Use caution when interpreting the results.<br/><br/>-------- Analysis Details --------<br/>Number of Features:           10000<br/>Dependent Variable:       UNITPRICE<br/>Explanatory Variables:         SIZE<br/>                           TOTFLOOR<br/>                           DIST2SUB<br/>Distance Band (Meters):  10994.9592<br/>----------------------------------<br/><br/>------------ Model Diagnostics -------------<br/>R2:                                    0.6131<br/>AdjR2:                                 0.6092<br/>AICc:                             217014.5133<br/>Sigma-Squared:                 154662250.9256<br/>Sigma-Squared MLE:             153098867.3374<br/>Effective Degrees of Freedom:       9898.9163<br/>--------------------------------------------<br/><br/>Succeeded at Sunday, April 3, 2022 11:51:06 PM (Elapsed Time: 2 minutes 6 seconds)<br/><style>.rendered_html td, .rendered_html th {text-align: left;}.rendered_html tbody {border: 1px solid black;}</style>"
      ],
      "text/plain": [
       "<Result 'D:\\\\TA_CRP5680_UrbanDataSci\\\\Lab9\\\\Lab9_data_demo\\\\\\\\Lab9_data_output\\\\result_GWR.shp'>"
      ]
     },
     "execution_count": 33,
     "metadata": {},
     "output_type": "execute_result"
    }
   ],
   "source": [
    "arcpy.stats.GWR(\"/housing/Beijing_housing2016.shp\", \"unitprice\", \"CONTINUOUS\", \"size;totfloor;dist2sub\", \n",
    "     \"/Lab9_data_output/result_GWR\", \"DISTANCE_BAND\", \"GOLDEN_SEARCH\")"
   ]
  },
  {
   "cell_type": "markdown",
   "metadata": {},
   "source": [
    "## 4. Spatial Interpolation\n",
    "\n",
    "Arcpy also incorporates the spatial interpolation tools in the Spatial Analyst Module of ArcGIS which provides four commonly-used interpolation methods -- IDW, Kriging, Nearest Neighbor, and Spline. \n",
    "- We will next use the Beijing monthly PM2.5 concentration in 2014 as an example to explore how the functions work.     "
   ]
  },
  {
   "cell_type": "code",
   "execution_count": 34,
   "metadata": {
    "scrolled": true
   },
   "outputs": [
    {
     "data": {
      "text/html": [
       "<div>\n",
       "<style scoped>\n",
       "    .dataframe tbody tr th:only-of-type {\n",
       "        vertical-align: middle;\n",
       "    }\n",
       "\n",
       "    .dataframe tbody tr th {\n",
       "        vertical-align: top;\n",
       "    }\n",
       "\n",
       "    .dataframe thead th {\n",
       "        text-align: right;\n",
       "    }\n",
       "</style>\n",
       "<table border=\"1\" class=\"dataframe\">\n",
       "  <thead>\n",
       "    <tr style=\"text-align: right;\">\n",
       "      <th></th>\n",
       "      <th>FID</th>\n",
       "      <th>Eng_name</th>\n",
       "      <th>lon</th>\n",
       "      <th>lat</th>\n",
       "      <th>201401</th>\n",
       "      <th>201402</th>\n",
       "      <th>201403</th>\n",
       "      <th>201404</th>\n",
       "      <th>201405</th>\n",
       "      <th>201406</th>\n",
       "      <th>201407</th>\n",
       "      <th>201408</th>\n",
       "      <th>201409</th>\n",
       "      <th>201410</th>\n",
       "      <th>201411</th>\n",
       "      <th>201412</th>\n",
       "      <th>SHAPE</th>\n",
       "    </tr>\n",
       "  </thead>\n",
       "  <tbody>\n",
       "    <tr>\n",
       "      <th>0</th>\n",
       "      <td>0</td>\n",
       "      <td>Dongsi</td>\n",
       "      <td>116.417</td>\n",
       "      <td>39.929</td>\n",
       "      <td>103.989944</td>\n",
       "      <td>154.159818</td>\n",
       "      <td>99.812829</td>\n",
       "      <td>92.293601</td>\n",
       "      <td>64.824013</td>\n",
       "      <td>58.256827</td>\n",
       "      <td>99.256031</td>\n",
       "      <td>69.889981</td>\n",
       "      <td>68.090435</td>\n",
       "      <td>117.270192</td>\n",
       "      <td>82.254303</td>\n",
       "      <td>56.525662</td>\n",
       "      <td>{\"x\": 116.417, \"y\": 39.929, \"spatialReference\"...</td>\n",
       "    </tr>\n",
       "    <tr>\n",
       "      <th>1</th>\n",
       "      <td>1</td>\n",
       "      <td>Tiantan</td>\n",
       "      <td>116.407</td>\n",
       "      <td>39.886</td>\n",
       "      <td>98.790410</td>\n",
       "      <td>144.743320</td>\n",
       "      <td>93.674694</td>\n",
       "      <td>88.977833</td>\n",
       "      <td>64.030937</td>\n",
       "      <td>61.215977</td>\n",
       "      <td>92.117828</td>\n",
       "      <td>68.384782</td>\n",
       "      <td>68.613844</td>\n",
       "      <td>115.402447</td>\n",
       "      <td>89.332727</td>\n",
       "      <td>68.863611</td>\n",
       "      <td>{\"x\": 116.407, \"y\": 39.886, \"spatialReference\"...</td>\n",
       "    </tr>\n",
       "    <tr>\n",
       "      <th>2</th>\n",
       "      <td>2</td>\n",
       "      <td>Guanyuan</td>\n",
       "      <td>116.339</td>\n",
       "      <td>39.929</td>\n",
       "      <td>101.438401</td>\n",
       "      <td>150.010663</td>\n",
       "      <td>94.243136</td>\n",
       "      <td>95.021284</td>\n",
       "      <td>63.891839</td>\n",
       "      <td>60.105481</td>\n",
       "      <td>88.617794</td>\n",
       "      <td>73.023634</td>\n",
       "      <td>70.812389</td>\n",
       "      <td>130.514968</td>\n",
       "      <td>90.295243</td>\n",
       "      <td>62.054568</td>\n",
       "      <td>{\"x\": 116.339, \"y\": 39.929, \"spatialReference\"...</td>\n",
       "    </tr>\n",
       "  </tbody>\n",
       "</table>\n",
       "</div>"
      ],
      "text/plain": [
       "   FID  Eng_name  ...     201412                                              SHAPE\n",
       "0    0    Dongsi  ...  56.525662  {\"x\": 116.417, \"y\": 39.929, \"spatialReference\"...\n",
       "1    1   Tiantan  ...  68.863611  {\"x\": 116.407, \"y\": 39.886, \"spatialReference\"...\n",
       "2    2  Guanyuan  ...  62.054568  {\"x\": 116.339, \"y\": 39.929, \"spatialReference\"...\n",
       "\n",
       "[3 rows x 17 columns]"
      ]
     },
     "execution_count": 34,
     "metadata": {},
     "output_type": "execute_result"
    }
   ],
   "source": [
    "gdf_air = pd.DataFrame.spatial.from_featureclass(workspace + \"/airquality/gdf_2014.shp\")\n",
    "gdf_air.head(3)"
   ]
  },
  {
   "cell_type": "code",
   "execution_count": 35,
   "metadata": {},
   "outputs": [],
   "source": [
    "# create the average PM2.5 concentrations by seasons\n"
   ]
  },
  {
   "cell_type": "code",
   "execution_count": 37,
   "metadata": {},
   "outputs": [
    {
     "data": {
      "text/plain": [
       "'D:\\\\TA_CRP5680_UrbanDataSci\\\\Lab9\\\\Lab9_data_demo\\\\Lab9_data_output\\\\airquality2014.shp'"
      ]
     },
     "execution_count": 37,
     "metadata": {},
     "output_type": "execute_result"
    }
   ],
   "source": [
    "gdf_air.spatial.to_featureclass(workspace + \"/Lab9_data_output/airquality2014.shp\")"
   ]
  },
  {
   "cell_type": "code",
   "execution_count": 38,
   "metadata": {},
   "outputs": [],
   "source": [
    "# IDW using for-loop\n",
    "gdf_air.spatial.to_featureclass(workspace + \"/Lab9_data_output/airquality2014.shp\")\n",
    "for i in [\"spring\", \"summer\", \"fall\", \"winter\"]:\n",
    "    # Set local variables\n",
    "    inPointFeatures = workspace + \"/Lab9_data_output/airquality2014.shp\"\n",
    "    zField = i\n",
    "    outLayer = \"#\"\n",
    "    outRaster = workspace + \"/Lab9_data_output/idw_\" + str(i) + \".tif\"\n",
    "    cellSize = \"#\"\n",
    "    power = 2\n",
    "\n",
    "    # Execute IDW\n",
    "    arcpy.IDW_ga(inPointFeatures, zField, outLayer, outRaster, cellSize, \n",
    "                 power)\n"
   ]
  },
  {
   "cell_type": "markdown",
   "metadata": {},
   "source": [
    "### 5. A Brief Introduction of ArcGIS API Python\n",
    "\n",
    "- For some of you who are interested in using the ArcGIS Online and the ArcGIS API for Python, Here is a small example of exploring the geolocations of Ithaca restaurants by combing ArcGIS Online and Python. For more about the package of the ArcGIS API for Python, see this website: https://developers.arcgis.com/python/api-reference/arcgis.gis.toc.html  "
   ]
  },
  {
   "cell_type": "code",
   "execution_count": 15,
   "metadata": {},
   "outputs": [],
   "source": [
    "from arcgis.gis import GIS\n",
    "gis = GIS() # Anonymous Login to ArcGIS Online"
   ]
  },
  {
   "cell_type": "code",
   "execution_count": 83,
   "metadata": {},
   "outputs": [
    {
     "data": {
      "application/vnd.jupyter.widget-view+json": {
       "model_id": "71705c08b1f4488cbfab8179ba6a13cb",
       "version_major": 2,
       "version_minor": 0
      },
      "text/plain": [
       "MapView(layout=Layout(height='400px', width='100%'))"
      ]
     },
     "metadata": {},
     "output_type": "display_data"
    },
    {
     "data": {
      "text/html": [
       "<div class=\"map-static-img-preview-aa9a9f20-c900-410e-bbae-eb1a1d23a9ee\"><img src=\"\"></img></div>"
      ],
      "text/plain": [
       "<display.HTML object>"
      ]
     },
     "metadata": {},
     "output_type": "display_data"
    },
    {
     "data": {
      "text/html": [
       "<div class=\"map-html-embed-preview-aa9a9f20-c900-410e-bbae-eb1a1d23a9ee\"></div>"
      ],
      "text/plain": [
       "<display.HTML object>"
      ]
     },
     "metadata": {},
     "output_type": "display_data"
    }
   ],
   "source": [
    "# initialize your map\n",
    "map = gis.map(\"Ithaca, New York\")\n",
    "map"
   ]
  },
  {
   "cell_type": "code",
   "execution_count": 84,
   "metadata": {},
   "outputs": [
    {
     "data": {
      "text/plain": [
       "['dark-gray', 'dark-gray-vector', 'gray', 'gray-vector', 'hybrid', 'national-geographic', 'oceans', 'osm', 'satellite', 'streets', 'streets-navigation-vector', 'streets-night-vector', 'streets-relief-vector', 'streets-vector', 'terrain', 'topo', 'topo-vector']"
      ]
     },
     "execution_count": 84,
     "metadata": {},
     "output_type": "execute_result"
    }
   ],
   "source": [
    "# set parameters for your map\n",
    "map.center = [42.43983599374521, -76.49733885932113]\n",
    "map.zoom = 16\n",
    "map.basemaps"
   ]
  },
  {
   "cell_type": "code",
   "execution_count": 64,
   "metadata": {},
   "outputs": [],
   "source": [
    "# change the basemap\n",
    "map.basemap = 'streets'"
   ]
  },
  {
   "cell_type": "code",
   "execution_count": 142,
   "metadata": {},
   "outputs": [
    {
     "data": {
      "text/plain": [
       "[<Item title:\"whereEatLocal\" type:Feature Layer Collection owner:svetla.borovska_tompkinscounty>, <Item title:\"whereEat\" type:Feature Layer Collection owner:svetla.borovska_tompkinscounty>]"
      ]
     },
     "execution_count": 142,
     "metadata": {},
     "output_type": "execute_result"
    }
   ],
   "source": [
    "# search the layer you want through ArcGIS Online\n",
    "rest = gis.content.search(\"Ithaca eat\", \n",
    "                          item_type = \"Feature Layer\", max_items = 5)\n",
    "rest"
   ]
  },
  {
   "cell_type": "code",
   "execution_count": 143,
   "metadata": {},
   "outputs": [
    {
     "data": {
      "text/html": [
       "<div class=\"item_container\" style=\"height: auto; overflow: hidden; border: 1px solid #cfcfcf; border-radius: 2px; background: #f6fafa; line-height: 1.21429em; padding: 10px;\">\n",
       "                    <div class=\"item_left\" style=\"width: 210px; float: left;\">\n",
       "                       <a href='https://www.arcgis.com/home/item.html?id=0fd58df0201842e1b67dc364171c4508' target='_blank'>\n",
       "                        <img src='https://www.arcgis.com/sharing/rest//content/items/0fd58df0201842e1b67dc364171c4508/info/thumbnail/thumbnail1533132380214.png' class=\"itemThumbnail\">\n",
       "                       </a>\n",
       "                    </div>\n",
       "\n",
       "                    <div class=\"item_right\"     style=\"float: none; width: auto; overflow: hidden;\">\n",
       "                        <a href='https://www.arcgis.com/home/item.html?id=0fd58df0201842e1b67dc364171c4508' target='_blank'><b>whereEatLocal</b>\n",
       "                        </a>\n",
       "                        <br/>Where to Eat Local View Layer<img src='https://www.arcgis.com/home/js/jsapi/esri/css/images/item_type_icons/featureshosted16.png' style=\"vertical-align:middle;\">Feature Layer Collection by svetla.borovska_tompkinscounty\n",
       "                        <br/>Last Modified: March 10, 2021\n",
       "                        <br/>0 comments, 13 views\n",
       "                    </div>\n",
       "                </div>\n",
       "                "
      ],
      "text/plain": [
       "<Item title:\"whereEatLocal\" type:Feature Layer Collection owner:svetla.borovska_tompkinscounty>"
      ]
     },
     "metadata": {},
     "output_type": "display_data"
    },
    {
     "data": {
      "text/html": [
       "<div class=\"item_container\" style=\"height: auto; overflow: hidden; border: 1px solid #cfcfcf; border-radius: 2px; background: #f6fafa; line-height: 1.21429em; padding: 10px;\">\n",
       "                    <div class=\"item_left\" style=\"width: 210px; float: left;\">\n",
       "                       <a href='https://www.arcgis.com/home/item.html?id=b9ccf386880b49cf89921ff485db6fc3' target='_blank'>\n",
       "                        <img src='https://www.arcgis.com/sharing/rest//content/items/b9ccf386880b49cf89921ff485db6fc3/info/thumbnail/thumbnail.png' class=\"itemThumbnail\">\n",
       "                       </a>\n",
       "                    </div>\n",
       "\n",
       "                    <div class=\"item_right\"     style=\"float: none; width: auto; overflow: hidden;\">\n",
       "                        <a href='https://www.arcgis.com/home/item.html?id=b9ccf386880b49cf89921ff485db6fc3' target='_blank'><b>whereEat</b>\n",
       "                        </a>\n",
       "                        <br/>Where to Eat Local <img src='https://www.arcgis.com/home/js/jsapi/esri/css/images/item_type_icons/featureshosted16.png' style=\"vertical-align:middle;\">Feature Layer Collection by svetla.borovska_tompkinscounty\n",
       "                        <br/>Last Modified: December 21, 2018\n",
       "                        <br/>0 comments, 1,719 views\n",
       "                    </div>\n",
       "                </div>\n",
       "                "
      ],
      "text/plain": [
       "<Item title:\"whereEat\" type:Feature Layer Collection owner:svetla.borovska_tompkinscounty>"
      ]
     },
     "metadata": {},
     "output_type": "display_data"
    }
   ],
   "source": [
    "from IPython.display import display\n",
    "for item in rest:\n",
    "    display(item)"
   ]
  },
  {
   "cell_type": "code",
   "execution_count": 145,
   "metadata": {},
   "outputs": [],
   "source": [
    "rest = rest[1]\n",
    "map.add_layer(rest)"
   ]
  },
  {
   "cell_type": "code",
   "execution_count": 139,
   "metadata": {},
   "outputs": [
    {
     "name": "stdout",
     "output_type": "stream",
     "text": [
      "whereEat\n"
     ]
    }
   ],
   "source": [
    "for lyr in item.layers:\n",
    "    print(lyr.properties.name)"
   ]
  },
  {
   "cell_type": "code",
   "execution_count": 136,
   "metadata": {},
   "outputs": [],
   "source": [
    "data = item.layers[0]"
   ]
  },
  {
   "cell_type": "code",
   "execution_count": 137,
   "metadata": {},
   "outputs": [],
   "source": [
    "sdf = pd.DataFrame.spatial.from_layer(data)"
   ]
  },
  {
   "cell_type": "code",
   "execution_count": 138,
   "metadata": {},
   "outputs": [
    {
     "data": {
      "text/html": [
       "<div>\n",
       "<style scoped>\n",
       "    .dataframe tbody tr th:only-of-type {\n",
       "        vertical-align: middle;\n",
       "    }\n",
       "\n",
       "    .dataframe tbody tr th {\n",
       "        vertical-align: top;\n",
       "    }\n",
       "\n",
       "    .dataframe thead th {\n",
       "        text-align: right;\n",
       "    }\n",
       "</style>\n",
       "<table border=\"1\" class=\"dataframe\">\n",
       "  <thead>\n",
       "    <tr style=\"text-align: right;\">\n",
       "      <th></th>\n",
       "      <th>FID</th>\n",
       "      <th>Image_URL</th>\n",
       "      <th>Website</th>\n",
       "      <th>Short_Desc</th>\n",
       "      <th>Title</th>\n",
       "      <th>Number</th>\n",
       "      <th>Desc1</th>\n",
       "      <th>SHAPE</th>\n",
       "    </tr>\n",
       "  </thead>\n",
       "  <tbody>\n",
       "    <tr>\n",
       "      <th>0</th>\n",
       "      <td>1</td>\n",
       "      <td>http://geo.tompkins-co.org/images/EatStayGo/Un...</td>\n",
       "      <td>http://www.unwindcafe.com/</td>\n",
       "      <td>40 Catherwood Rd</td>\n",
       "      <td>Unwind Coffee House and Internet Cafe</td>\n",
       "      <td>40</td>\n",
       "      <td>Awesome coffee shop in The Shops at Ithaca Mall</td>\n",
       "      <td>{\"x\": 845236.0435710847, \"y\": 905142.401368916...</td>\n",
       "    </tr>\n",
       "    <tr>\n",
       "      <th>1</th>\n",
       "      <td>2</td>\n",
       "      <td>http://geo.tompkins-co.org/images/EatStayGo/Gi...</td>\n",
       "      <td>https://www.gimmecoffee.com/</td>\n",
       "      <td>506 West State St</td>\n",
       "      <td>Gimme! Coffee</td>\n",
       "      <td>30</td>\n",
       "      <td>Espresso, drip brews &amp; small-batch roasted cof...</td>\n",
       "      <td>{\"x\": 840951.7739244178, \"y\": 888804.418296918...</td>\n",
       "    </tr>\n",
       "    <tr>\n",
       "      <th>2</th>\n",
       "      <td>3</td>\n",
       "      <td>http://geo.tompkins-co.org/images/EatStayGo/Gi...</td>\n",
       "      <td>https://www.gimmecoffee.com/</td>\n",
       "      <td>430 N Cayuga St</td>\n",
       "      <td>Gimme! Coffee</td>\n",
       "      <td>34</td>\n",
       "      <td>Espresso, drip brews &amp; small-batch roasted cof...</td>\n",
       "      <td>{\"x\": 842848.8364032507, \"y\": 890626.225676916...</td>\n",
       "    </tr>\n",
       "    <tr>\n",
       "      <th>3</th>\n",
       "      <td>4</td>\n",
       "      <td>http://geo.tompkins-co.org/images/EatStayGo/Th...</td>\n",
       "      <td>http://www.theheightsithaca.com/</td>\n",
       "      <td>903 Hanshaw Rd</td>\n",
       "      <td>The Heights</td>\n",
       "      <td>23</td>\n",
       "      <td>Refined spot with patio seating featuring Medi...</td>\n",
       "      <td>{\"x\": 848126.1467147507, \"y\": 899538.437183171...</td>\n",
       "    </tr>\n",
       "    <tr>\n",
       "      <th>4</th>\n",
       "      <td>5</td>\n",
       "      <td>http://geo.tompkins-co.org/images/EatStayGo/Ci...</td>\n",
       "      <td>http://www.ciaoithaca.com/index.html</td>\n",
       "      <td>2 Hickory Hollow Ln</td>\n",
       "      <td>Ciao!</td>\n",
       "      <td>10</td>\n",
       "      <td>Stylish yet casual Italian resturant</td>\n",
       "      <td>{\"x\": 845631.8488818333, \"y\": 906392.161008499...</td>\n",
       "    </tr>\n",
       "    <tr>\n",
       "      <th>...</th>\n",
       "      <td>...</td>\n",
       "      <td>...</td>\n",
       "      <td>...</td>\n",
       "      <td>...</td>\n",
       "      <td>...</td>\n",
       "      <td>...</td>\n",
       "      <td>...</td>\n",
       "      <td>...</td>\n",
       "    </tr>\n",
       "    <tr>\n",
       "      <th>126</th>\n",
       "      <td>127</td>\n",
       "      <td>https://static1.squarespace.com/static/58e2611...</td>\n",
       "      <td>https://www.liquidstatebeer.com/</td>\n",
       "      <td>620 W Green St</td>\n",
       "      <td>Licuid State Brewing Co</td>\n",
       "      <td>131</td>\n",
       "      <td>A craft brewery and beer hall</td>\n",
       "      <td>{\"x\": 840621.1289164163, \"y\": 888516.532061666...</td>\n",
       "    </tr>\n",
       "    <tr>\n",
       "      <th>127</th>\n",
       "      <td>128</td>\n",
       "      <td>http://www.boleatery.com/img/bol-new-photo.jpg</td>\n",
       "      <td>http://www.boleatery.com/</td>\n",
       "      <td>222 E State St</td>\n",
       "      <td>BoL</td>\n",
       "      <td>132</td>\n",
       "      <td>Ramen Restaurant</td>\n",
       "      <td>{\"x\": 843794.4260475002, \"y\": 888904.631351083...</td>\n",
       "    </tr>\n",
       "    <tr>\n",
       "      <th>128</th>\n",
       "      <td>129</td>\n",
       "      <td>http://geo.tompkins-co.org/images/EatStayGo/Ma...</td>\n",
       "      <td>https://www.maru-ramen.com/</td>\n",
       "      <td>512 W State St</td>\n",
       "      <td>Maru Ramen</td>\n",
       "      <td>133</td>\n",
       "      <td>Ramen Restaurant</td>\n",
       "      <td>{\"x\": 840863.2990357503, \"y\": 888797.179466255...</td>\n",
       "    </tr>\n",
       "    <tr>\n",
       "      <th>129</th>\n",
       "      <td>130</td>\n",
       "      <td>http://geo.tompkins-co.org/images/EatStayGo/Fr...</td>\n",
       "      <td>https://www.facebook.com/francoandsalvosithacany/</td>\n",
       "      <td>508 W State St</td>\n",
       "      <td>Franco's Pizzeria</td>\n",
       "      <td>134</td>\n",
       "      <td>Pizza Restaurant</td>\n",
       "      <td>{\"x\": 840926.4130827524, \"y\": 888797.737207919...</td>\n",
       "    </tr>\n",
       "    <tr>\n",
       "      <th>130</th>\n",
       "      <td>131</td>\n",
       "      <td>https://goo.gl/8qvvxN</td>\n",
       "      <td>https://thompsonandbleeckerpizza.com/</td>\n",
       "      <td>220 East State St</td>\n",
       "      <td>Thompson and Bleecker</td>\n",
       "      <td>135</td>\n",
       "      <td>Neapolitanian Pizza</td>\n",
       "      <td>{\"x\": 843774.6209690012, \"y\": 888901.420727588...</td>\n",
       "    </tr>\n",
       "  </tbody>\n",
       "</table>\n",
       "<p>131 rows × 8 columns</p>\n",
       "</div>"
      ],
      "text/plain": [
       "     FID  ...                                              SHAPE\n",
       "0      1  ...  {\"x\": 845236.0435710847, \"y\": 905142.401368916...\n",
       "1      2  ...  {\"x\": 840951.7739244178, \"y\": 888804.418296918...\n",
       "2      3  ...  {\"x\": 842848.8364032507, \"y\": 890626.225676916...\n",
       "3      4  ...  {\"x\": 848126.1467147507, \"y\": 899538.437183171...\n",
       "4      5  ...  {\"x\": 845631.8488818333, \"y\": 906392.161008499...\n",
       "..   ...  ...                                                ...\n",
       "126  127  ...  {\"x\": 840621.1289164163, \"y\": 888516.532061666...\n",
       "127  128  ...  {\"x\": 843794.4260475002, \"y\": 888904.631351083...\n",
       "128  129  ...  {\"x\": 840863.2990357503, \"y\": 888797.179466255...\n",
       "129  130  ...  {\"x\": 840926.4130827524, \"y\": 888797.737207919...\n",
       "130  131  ...  {\"x\": 843774.6209690012, \"y\": 888901.420727588...\n",
       "\n",
       "[131 rows x 8 columns]"
      ]
     },
     "execution_count": 138,
     "metadata": {},
     "output_type": "execute_result"
    }
   ],
   "source": [
    "sdf"
   ]
  },
  {
   "cell_type": "markdown",
   "metadata": {},
   "source": [
    "### 6. Homework\n",
    "#### Due: April 20th; Total points: 50 pts"
   ]
  },
  {
   "cell_type": "markdown",
   "metadata": {},
   "source": [
    "### Question 1 (15 pts)\n",
    "Tornadoes occur in many parts of the world, but they are found most frequently in the United States. Tornadoes are the most violent of all atmospheric storms and in the United States alone have caused an average of more than 80 deaths and 1,400 injuries each year (based on 1950–2008 data). Tornado formation is complex and no two tornadoes are the same; however, they need certain conditions to form, including intense or unseasonable heat. Wind speed within a tornado can vary from just above 0 mph up to 70 mph, with an average of 30 mph (NOAA). The Fujita damage scale is used to quantify the intensity of a tornado.\n",
    "\n",
    "Using tornado location data from the United States severe weather report database, provided by the National Oceanic and Atmospheric Administration (NOAA)/National Weather Service Storm Prediction Center (https://www.spc.noaa.gov/gis/svrgis/), you can find the detailed infromation about the Tornades. The dataset contains all records of Tornadoes in the United States from 2008 to 2011. Please use the dataset to calculate and visualize the following tasks based the the Fujita damage scale (FSCALE): \n",
    "- (1) the Global Moran's I index\n",
    "- (2) the Local Moran's I index\n",
    "- (3) the Hot spot analysis"
   ]
  },
  {
   "cell_type": "markdown",
   "metadata": {},
   "source": [
    "### Question 2 (15 pts)\n",
    "Run OLS and GWR regressions using the Beijing Housing dataset (\"Beijing_housing1416.shp\"). \n",
    "- (1) Categorize the housing dataset into two parts: the urban core and the suburb. The urban core includes six districts (see field \"disname_en\"): [\"Dongcheng\", \"Xicheng\", \"Chaoyang\", \"Haidian\", \"Fengtai\", \"Shijingshan\"]. The suburbs are the rest of the districts. \n",
    "- (2) Run OLS regressions for both the urban core and the suburbs using for-loop in Python. Show your major regression results. \n",
    "- (3) Run a GWR regressions for the whole dataset. Show your major regression results. \n"
   ]
  },
  {
   "cell_type": "markdown",
   "metadata": {},
   "source": [
    "### Question 3 (20 pts):\n",
    "We will calculate the annual average PM2.5 concentration and obtain the spatial interpolation surfaces using the Beijing PM2.5 dataset from 2014 to 2018 (PM25_1418.shp).\n",
    "- (1) Calculate the annual average PM2.5 for each year (2014-2018) and attach the result to your current dataframe (hint: see Section 4 for help).\n",
    "- (2) Create spatial interpolation surface for each year and visualize them using the same legend and scale for comparison purposes.  \n"
   ]
  }
 ],
 "metadata": {
  "kernelspec": {
   "display_name": "ArcGISPro",
   "language": "Python",
   "name": "python3"
  },
  "language_info": {
   "file_extension": ".py",
   "name": "python",
   "version": "3"
  }
 },
 "nbformat": 4,
 "nbformat_minor": 2
}
