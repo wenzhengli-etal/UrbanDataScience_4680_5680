{
 "cells": [
  {
   "cell_type": "markdown",
   "metadata": {},
   "source": [
    "## Lab4 Part 2 Web-scraping\n",
    "\n",
    "<p><a id=\"table\"> </a></p>\n",
    "<h3 id=\"Table-of-Contents\">Table of Contents<a class=\"anchor-link\" href=\"#Table-of-Contents\">¶</a></h3>\n",
    "\n",
    "<ol>\n",
    "<h3>1 <a href=\"#Introduction to Selenium\">Introduction to Selenium</a><br/></h3>\n",
    "1.1 <a href=\"#Install selenium\">Install selenium</a><br/>\n",
    "1.2 <a href=\"#Download webdriver\">Download webdriver</a><br/>  \n",
    "</ol>\n",
    "\n",
    "\n",
    "<ol>\n",
    "<h3>2 <a href=\"#Control web browser using Selenium\">Control web browser using Selenium</a><br/></h3>\n",
    "2.1 <a href=\"#Import Selenium and launch web browser\">Import Selenium and launch web browser</a><br/>\n",
    "2.2 <a href=\"#Find elements and send keys\">Find elements and send keys</a><br/>  \n",
    "2.3 <a href=\"#Find text using xpath\">Find text using xpath</a><br/>\n",
    "</ol>\n",
    "\n",
    "\n",
    "<ol>\n",
    "<h3>3 <a href=\"#Web-scraping of Trulia using for loop and Selenium\">Web-scraping of Trulia using for-loop and Selenium</a><br/></h3>\n",
    "</ol>\n",
    "\n",
    "<ol>\n",
    "<h3>4 <a href=\"#Collecting other housing attributes in Turlia\">Collecting other housing attributes in Turlia</a><br/></h3>\n",
    "</ol>\n"
   ]
  },
  {
   "cell_type": "markdown",
   "metadata": {},
   "source": [
    "<p><a id=\"Introduction to Selenium\"> </a></p>\n",
    "<h2 id=\"Introduction to Selenium\">1 <a href=\"#table\">Introduction to Selenium</a><a class=\"anchor-link\" href=\"#Introduction to Selenium\">¶</a></h2>\n",
    "\n",
    "<p><a id=\"Install selenium\"> </a></p>\n",
    "<h3 id=\"Install selenium\">1.1 <a href=\"#table\">Install selenium</a><a class=\"anchor-link\" href=\"#Install selenium\">¶</a></h3>\n",
    "\n",
    "\n",
    "We are using selenium (a library in Python) to obtain data from webpages. Launch the Jupyter Notebook and\n",
    "import selenium.\n",
    "\n",
    "<img src=\"img/selenium_error.jpg\" style=\"width:1200px; height:120px\"/>  \n",
    "\n",
    "However, an error appears which indicates that the selenium is not installed in your computer. To install this package (library), start a new command prompt (or terminal) and then type in `pip install selenium`.\n",
    "\n",
    "<img src=\"img/selenium_installation.jpg\" style=\"width:600px; height:150px\"/> \n",
    "\n",
    "Now import selenium again. There should be no errors."
   ]
  },
  {
   "cell_type": "code",
   "execution_count": 32,
   "metadata": {},
   "outputs": [],
   "source": [
    "import selenium"
   ]
  },
  {
   "cell_type": "markdown",
   "metadata": {},
   "source": [
    "<p><a id=\"Download webdriver\"> </a></p>\n",
    "<h3 id=\"Download webdriver\">1.2 <a href=\"#table\">Download webdriver</a><a class=\"anchor-link\" href=\"#Download webdriver\">¶</a></h3>\n",
    "\n",
    "Using Selenium to control web browser requires a webdriver application, which is available from the selenium\n",
    "website. <br>\n",
    "1. Go to the website (https://selenium.dev/) and click \"Download\";<br>\n",
    "2. Scroll down and you can see \"Platforms Supported by Selenium\". Under \"Browser\", there is a list of web\n",
    "browsers. Click your daily choice and download it accordingly. <br>\n",
    "3. Unzip the downloaded file and save the application file in the Notebook folder."
   ]
  },
  {
   "cell_type": "markdown",
   "metadata": {},
   "source": [
    "<p><a id=\"Control web browser using Selenium\"> </a></p>\n",
    "<h2 id=\"Control web browser using Selenium\">2 <a href=\"#table\">Control web browser using Selenium</a><a class=\"anchor-link\" href=\"#Control web browser using Selenium\">¶</a></h2>\n",
    "\n",
    "\n",
    "<p><a id=\"Import Selenium and launch web brower\"> </a></p>\n",
    "<h3 id=\"Import Selenium and launch web brower\">2.1 <a href=\"#table\">Import Selenium and launch web brower</a><a class=\"anchor-link\" href=\"#Import Selenium and launch web brower\">¶</a></h3>\n",
    "\n",
    "\n",
    "Firstly, we import Selenium in the following way. In this way, we import the module webdriver from the big library\n",
    "Selenium so that we can call webdriver directly."
   ]
  },
  {
   "cell_type": "code",
   "execution_count": 33,
   "metadata": {},
   "outputs": [],
   "source": [
    "from selenium import webdriver"
   ]
  },
  {
   "cell_type": "markdown",
   "metadata": {},
   "source": [
    "Then we create a brower representing the web browser. I use Google Chrome here as my default web browser."
   ]
  },
  {
   "cell_type": "code",
   "execution_count": 37,
   "metadata": {},
   "outputs": [],
   "source": [
    "browser = webdriver.Chrome('chromedriver')"
   ]
  },
  {
   "cell_type": "markdown",
   "metadata": {},
   "source": [
    "You may see some safety warning message from your system, just allow it. Now, you should see a new web browser launched. For a different web browser, you need to change the function name (after the webdriver.) as well as the driver\n",
    "application name. For example,<br>\n",
    "   - `browser = webdriver.Chrome('chromedriver')`<br>\n",
    "   - `browser = webdriver.Edge('MicrosoftWebDriver')`<br>\n",
    "\n",
    "Now, we can surf the internet using selenium and this browser ! Let's try Google first.<br>\n",
    "*Note that for some browsers, you must keep \"http://\" in the web address.*"
   ]
  },
  {
   "cell_type": "code",
   "execution_count": 38,
   "metadata": {},
   "outputs": [],
   "source": [
    "browser.get('http://www.google.com')"
   ]
  },
  {
   "cell_type": "markdown",
   "metadata": {},
   "source": [
    "<p><a id=\"Find elements and send keys\"> </a></p>\n",
    "<h3 id=\"Find elements and send keys\">2.2 <a href=\"#table\">Find elements and send keys</a><a class=\"anchor-link\" href=\"#Find elements and send keysm\">¶</a></h3>\n",
    "\n",
    "Let's search something. Firstly, you need to find the search input window element by right clicking the search window and choose \"Inspect\". Find in the source codes the specific \"`id`\" or \"`name`\" of the input window and then use it in the function `find_element_by_id()` or `find_element_by_name()`. Here we find the name is \"q\", so we use this name and define an object (variable) search for the input window.\n",
    "\n",
    "<img src=\"img/google_selenium1.jpg\" style=\"width:900px; height:300px\"/> \n"
   ]
  },
  {
   "cell_type": "code",
   "execution_count": 40,
   "metadata": {},
   "outputs": [],
   "source": [
    "search = browser.find_element_by_name('q')"
   ]
  },
  {
   "cell_type": "markdown",
   "metadata": {},
   "source": [
    "To type in texts in the window, you can call the search and use the function `send_keys()`. For example, we search \"wikipedia\" here."
   ]
  },
  {
   "cell_type": "code",
   "execution_count": 41,
   "metadata": {},
   "outputs": [],
   "source": [
    "search.send_keys('wikipedia')"
   ]
  },
  {
   "cell_type": "markdown",
   "metadata": {},
   "source": [
    "Next, we want to run the search through pressing ENTER. Selenium can do that through the function `search.send_keys(Keys.ENTER)`. But before running it, you need to import Keys from the big library Selenium.  "
   ]
  },
  {
   "cell_type": "code",
   "execution_count": 42,
   "metadata": {},
   "outputs": [],
   "source": [
    "# import Keys from selenium\n",
    "from selenium.webdriver.common.keys import Keys\n",
    "search.send_keys(Keys.ENTER)"
   ]
  },
  {
   "cell_type": "markdown",
   "metadata": {},
   "source": [
    "Congratulations! You just controlled the web browser to search wikipedia by selenium.\n",
    "\n",
    "Now, let us try a different website, Trulia, an online real estate marketplace (https://www.trulia.com/) that facilitates buyers and renters to find homes and neighborhoods across the United States.\n",
    "\n",
    "The following code presents you a list of properties being sold in Ithaca by Trulia. Let us firstly open the Trulia homepage using `browser.get()`. Then, we navigate to the search bar in the homepage using `find_element_by_id()` as we identify the `banner-search` as the search id. But please note that Trulia can automatically obtain the computer location and present it in the search bar as the default search content (Ithaca, NY in my computer). So the next step we need is to clear the content in the search bar by `search.clear()`. After doing that, we can enter the location we want to search and run the search by `.send_keys(Keys.ENTER)`. "
   ]
  },
  {
   "cell_type": "code",
   "execution_count": 10,
   "metadata": {},
   "outputs": [],
   "source": [
    "# import the required packages (libraries)\n",
    "import selenium\n",
    "from selenium import webdriver\n",
    "from selenium.webdriver.common.keys import Keys\n",
    "\n",
    "# open Trulia and search where you want\n",
    "browser = webdriver.Chrome('chromedriver')\n",
    "browser.get('https://www.trulia.com/')\n",
    "\n",
    "search = browser.find_element_by_id('banner-search')\n",
    "search.clear() # clear content in the search bar\n",
    "search.send_keys('Ithaca, NY')\n",
    "search.send_keys(Keys.ENTER)"
   ]
  },
  {
   "cell_type": "markdown",
   "metadata": {},
   "source": [
    "<p><a id=\"Find text using xpath\"> </a></p>\n",
    "<h3 id=\"Find text using xpath\">2.3 <a href=\"#table\">Find text using xpath</a><a class=\"anchor-link\" href=\"#Find text using xpath\">¶</a></h3>\n",
    "\n",
    "Now, if we want to save the search results, for example, the list price for a housing record, \\\\$325,000 (see figure below), how can we do that? If you right click the price ($325,000) and choose \"inspect\" to check the source code, you may find there is no id or name available for locating the target text. An alternative way is to use `find_element_by_xpath()`, a function that navigates to the target text based on Xpath. XPath is the language used for locating nodes and children in an XML document. To get the xpath, we right click the source code of the element we want to collect, and go to \"Copy\" and then \"Copy XPath\". Next, to obtain the text, paste the xpath as an argument of the function `find_element_by_xpath()`, and use the function `.text()` to obtain the text (\\\\$325,000) inside the xpath.\n",
    "\n",
    "<img src=\"img/selenium_trulia3.jpg\" style=\"width:1100px; height:300px\"/> \n",
    "\n",
    "Note that there are many functions for locating element(s), click [here](https://selenium-python.readthedocs.io/locating-elements.html) for more of the family `find_element(s)_by_...`."
   ]
  },
  {
   "cell_type": "code",
   "execution_count": 8,
   "metadata": {},
   "outputs": [
    {
     "data": {
      "text/plain": [
       "'$325,000'"
      ]
     },
     "execution_count": 8,
     "metadata": {},
     "output_type": "execute_result"
    }
   ],
   "source": [
    "# set the browser\n",
    "browser.get('https://www.trulia.com/NY/Ithaca/')\n",
    "\n",
    "# copy and paste the xpath for the price into the function .find_element_by_xpath() \n",
    "price = browser.find_element_by_xpath('//*[@id=\"resultsColumn\"]/div[1]/div[2]/div[1]/div/div/div/a/div[2]/div/div[1]/div/div')\n",
    "\n",
    "# To get the text inside source code, we call the title and use the function .text() .\n",
    "price.text"
   ]
  },
  {
   "cell_type": "markdown",
   "metadata": {},
   "source": [
    "##### in-class exercise\n",
    "Randomly pick a house record in Trulia, obtain its price, number of bedrooms, number of bathrooms, size, and address."
   ]
  },
  {
   "cell_type": "code",
   "execution_count": 9,
   "metadata": {},
   "outputs": [
    {
     "data": {
      "text/plain": [
       "['$325,000',\n",
       " '3bd',\n",
       " '3ba',\n",
       " '2,644 sqft',\n",
       " '124 Pine Tree Rd',\n",
       " 'East Ithaca, Ithaca, NY']"
      ]
     },
     "execution_count": 9,
     "metadata": {},
     "output_type": "execute_result"
    }
   ],
   "source": [
    "# define a list to save housing information\n",
    "house_lst = []\n",
    "\n",
    "# obtain the house attributes\n",
    "price = browser.find_element_by_xpath(\"\"\"//*[@id=\"resultsColumn\"]/div[1]/div[2]/div[1]\n",
    "                                         /div/div/div/a/div[2]/div/div[1]/div/div\"\"\")\n",
    "house_lst.append(price.text)\n",
    "\n",
    "bedroom = browser.find_element_by_xpath('//*[@id=\"resultsColumn\"]/div[1]/div[2]/div[1]/div/div/div/a/div[2]/div/div[2]/div[1]/div/div[2]/div')\n",
    "house_lst.append(bedroom.text)\n",
    "\n",
    "bathroom = browser.find_element_by_xpath('//*[@id=\"resultsColumn\"]/div[1]/div[2]/div[1]/div/div/div/a/div[2]/div/div[2]/div[2]/div/div[2]/div')\n",
    "house_lst.append(bathroom.text)\n",
    "\n",
    "size = browser.find_element_by_xpath('//*[@id=\"resultsColumn\"]/div[1]/div[2]/div[1]/div/div/div/a/div[2]/div/div[2]/div[3]/div/div[2]/div')\n",
    "house_lst.append(size.text)\n",
    "\n",
    "address1 = browser.find_element_by_xpath('//*[@id=\"resultsColumn\"]/div[1]/div[2]/div[1]/div/div/div/a/div[2]/div/div[3]')\n",
    "house_lst.append(address1.text)\n",
    "\n",
    "address2 = browser.find_element_by_xpath('//*[@id=\"resultsColumn\"]/div[1]/div[2]/div[1]/div/div/div/a/div[2]/div/div[4]')\n",
    "house_lst.append(address2.text)\n",
    "\n",
    "# print out the houseing information\n",
    "house_lst"
   ]
  },
  {
   "cell_type": "markdown",
   "metadata": {},
   "source": [
    "<p><a id=\"Web-scraping of Trulia using for loop and Selenium\"> </a></p>\n",
    "<h2 id=\"Web-scraping of Trulia using for loop and Selenium\">3 <a href=\"#table\">Web-scraping of Trulia using for-loop and Selenium</a><a class=\"anchor-link\" href=\"#Web-scraping of Trulia using for loop and Selenium\">¶</a></h2>"
   ]
  },
  {
   "cell_type": "markdown",
   "metadata": {},
   "source": [
    "in the last section, you exercised to collect the attributes of one house record. However, there are totally 101 houses being sold in Ithaca, and a full list of these houses occupies 4 pages, with up to 30 house records per page. Now, let us collect the attributes of all of them using for-loop and Selenium using the code in the following code cell.\n",
    "\n",
    "- The code can be categorized into three parts. The first part defines six housing attributes to be collected as lists (i.e., price_lst, bed_lst, bath_lst, size_lst, address1_lst and address2_lst). Each of them is responsible for storing one attribute of all the housing sales.\n",
    "\n",
    "\n",
    "- The second part defines the webdriver as google chrome and obtains the total number of houses being sold and the total number of pages to be collected. More specifically, we firstly open the Ithaca, NY housing homepage using `browser.get()`, and then navigate to the string `101 homes available on Trulia` that contains the total number of sales (see Figure below) using `find_element_by_xpath()`. Next, we extract the digit `101` from the string using the function `.split()` that splits each character of a string and `.isdigit()` that judges if a character is digit. If a character is a digit, then it will be converted to int using `int()`. Finally, we calculate the total number of pages using `int(tot_house[0] / num_perpage) + 1`. Note that `int()` rounds down the quotient `tot_house[0] / num_perpage`, and that is why we need to add 1 to get the correct pages to be collected.\n",
    "\n",
    "<img src=\"img/trulia_pages.jpg\" style=\"width:400px; height:100px\"/> \n",
    "\n",
    "- The third part collects the attributes of each housing record using a nested for-loop structure. The first for-loop iterates over the total number of pages, ranging from page 1 to page 4 using `range(1, page_num + 1)`. In each iteration, we firstly open the page by `browser.get(...+str(page)+...)`, and then enter the second for-loop to iterate over each house. In each housing records, we collect the price, bedroom, bathroom, size, address 1 and address 2, six attributes in total, using  `find_element_by_xpath()`. However, it is impossible for us to copy and paste the xpath of each attribute for each house record because there are 101 (houses) X 6 (attributes) of them. Therefore, instead of copying and pasting each xpath, we should try to find some sort of pattern among the x-paths of each housing attribute, and iterate over the x-paths in terms of the pattern we find. For example, the following list presents the x-paths of price for each house in the first page of houses in Ithaca: \n",
    "\n",
    "<img src=\"img/price_xpath.jpg\" style=\"width:600px; height:140px\"/> \n",
    "\n",
    "- The number in the square brackets are in the ascending order even though the div[4] and div[5] are missing (for some reasons I do not know...) which causes the sequence number in the last element to be div[32]. Although it is not a neat pattern, we can still summarize the pattern as <br> <br> //*[@id=\"resultsColumn\"]/div[1]/div[2]/**div[str(h)]**/div/div/div/a/div[2]/div/div[1]/div/div <br><br> where `h`(the $h^{th}$ house) ranges from 1 to 35, rather than 1 to 30. The additional 5 numbers (31, 32, 33, 34, 35) guarantees that we can still collect all the housing records even if the sequence numbers of some houses go beyond 30, e.g., div[32] in the above situation. For the sequence numbers without corresponding housing information, i.e., 4, 5, 33, 34, 35 in our case, we can assign them \"None\", representing no information collected.\n",
    "\n",
    "\n",
    "- The `try: .... except: ....` structure enables the logic that if an xpath contains text information, then the text will be appended to the corresponding list; if the xpath does not contain text information, `try:` part will report errors, and the `except:` part will be executed to append `None` to the corresponding list.    \n"
   ]
  },
  {
   "cell_type": "code",
   "execution_count": 12,
   "metadata": {},
   "outputs": [
    {
     "name": "stdout",
     "output_type": "stream",
     "text": [
      "101 homes available on Trulia\n",
      "4\n"
     ]
    }
   ],
   "source": [
    "# Part 1: define the variables to be collected\n",
    "# ********************************************\n",
    "price_lst = []\n",
    "bed_lst = []\n",
    "bath_lst = []\n",
    "size_lst = []\n",
    "address1_lst = []\n",
    "address2_lst = []\n",
    "\n",
    "\n",
    "# Part 2: obtian the number of houses being sold in Ithaca, and the total pages.\n",
    "# ******************************************************************************\n",
    "# define the borwser and navigate to Ithaca, NY\n",
    "browser = webdriver.Chrome('chromedriver')\n",
    "browser.get('https://www.trulia.com/NY/Ithaca/')\n",
    "\n",
    "# get the text that stores the total number of housing records\n",
    "page = browser.find_element_by_xpath('//*[@id=\"resultsColumn\"]/div[1]/div[1]/div/div/h2') \n",
    "print(page.text)              \n",
    "\n",
    "# get the number of total pages\n",
    "num_perpage = 30\n",
    "tot_house = [int(i) for i in page.text.split() if i.isdigit()]\n",
    "page_num = int(tot_house[0] / num_perpage) + 1\n",
    "print(page_num)\n",
    "\n",
    "\n",
    "# Part 3: obtain the housing information for all houses being sold in the Ithaca, NY \n",
    "# **********************************************************************************\n",
    "root_path = '//*[@id=\"resultsColumn\"]/div[1]/div[2]/div['\n",
    "\n",
    "for page in range(1, page_num + 1): # pages from 1 to 4\n",
    "    \n",
    "    browser.get('https://www.trulia.com/NY/Ithaca/' + str(page) + '_p/')\n",
    "    \n",
    "    for h in range(1, num_perpage + 6): # h ranges from 1 to 35\n",
    "\n",
    "        # obtain the house attributes\n",
    "        try:\n",
    "            price = browser.find_element_by_xpath(root_path+str(h)+']/div/div/div/a/div[2]/div/div[1]/div/div')\n",
    "            price_lst.append(price.text)\n",
    "        except: \n",
    "            price_lst.append(\"None\")\n",
    "            \n",
    "        try:\n",
    "            bedroom = browser.find_element_by_xpath(root_path+str(h)+']/div/div/div/a/div[2]/div/div[2]/div[1]/div/div[2]/div')\n",
    "            bed_lst.append(bedroom.text)\n",
    "        except:\n",
    "            bed_lst.append(\"None\")\n",
    "        \n",
    "        try:\n",
    "            bathroom = browser.find_element_by_xpath(root_path+str(h)+']/div/div/div/a/div[2]/div/div[2]/div[2]/div/div[2]/div')\n",
    "            bath_lst.append(bathroom.text)\n",
    "        except:\n",
    "            bath_lst.append(\"None\")\n",
    "        \n",
    "        try:\n",
    "            size = browser.find_element_by_xpath(root_path + str(h) + ']/div/div/div/a/div[2]/div/div[2]/div[3]/div/div[2]/div')\n",
    "            size_lst.append(size.text)\n",
    "        except:\n",
    "            size_lst.append(\"None\")\n",
    "        \n",
    "        try:\n",
    "            address1 = browser.find_element_by_xpath(root_path + str(h) + ']/div/div/div/a/div[2]/div/div[3]')\n",
    "            address1_lst.append(address1.text)\n",
    "        except:\n",
    "            address1_lst.append(\"None\")\n",
    "            \n",
    "        try:    \n",
    "            address2 = browser.find_element_by_xpath(root_path + str(h) + ']/div/div/div/a/div[2]/div/div[4]')\n",
    "            address2_lst.append(address2.text)\n",
    "        except:\n",
    "            address2_lst.append(\"None\")\n",
    "        "
   ]
  },
  {
   "cell_type": "markdown",
   "metadata": {},
   "source": [
    "After collecting the housing attributes for all the houses being sold in Ithaca, we save them in a DataFrame and export to excel."
   ]
  },
  {
   "cell_type": "code",
   "execution_count": 13,
   "metadata": {},
   "outputs": [
    {
     "data": {
      "text/html": [
       "<div>\n",
       "<style scoped>\n",
       "    .dataframe tbody tr th:only-of-type {\n",
       "        vertical-align: middle;\n",
       "    }\n",
       "\n",
       "    .dataframe tbody tr th {\n",
       "        vertical-align: top;\n",
       "    }\n",
       "\n",
       "    .dataframe thead th {\n",
       "        text-align: right;\n",
       "    }\n",
       "</style>\n",
       "<table border=\"1\" class=\"dataframe\">\n",
       "  <thead>\n",
       "    <tr style=\"text-align: right;\">\n",
       "      <th></th>\n",
       "      <th>Price</th>\n",
       "      <th>Bedroom</th>\n",
       "      <th>Bathroom</th>\n",
       "      <th>Size</th>\n",
       "      <th>Address1</th>\n",
       "      <th>Address2</th>\n",
       "    </tr>\n",
       "  </thead>\n",
       "  <tbody>\n",
       "    <tr>\n",
       "      <th>0</th>\n",
       "      <td>$325,000</td>\n",
       "      <td>3bd</td>\n",
       "      <td>3ba</td>\n",
       "      <td>2,644 sqft</td>\n",
       "      <td>124 Pine Tree Rd</td>\n",
       "      <td>East Ithaca, Ithaca, NY</td>\n",
       "    </tr>\n",
       "    <tr>\n",
       "      <th>1</th>\n",
       "      <td>$134,933</td>\n",
       "      <td>3bd</td>\n",
       "      <td>2ba</td>\n",
       "      <td>1,360 sqft</td>\n",
       "      <td>409 Elm St</td>\n",
       "      <td>Ithaca, NY</td>\n",
       "    </tr>\n",
       "    <tr>\n",
       "      <th>2</th>\n",
       "      <td>None</td>\n",
       "      <td>None</td>\n",
       "      <td>None</td>\n",
       "      <td>None</td>\n",
       "      <td>None</td>\n",
       "      <td>None</td>\n",
       "    </tr>\n",
       "    <tr>\n",
       "      <th>3</th>\n",
       "      <td>None</td>\n",
       "      <td>None</td>\n",
       "      <td>None</td>\n",
       "      <td>None</td>\n",
       "      <td>None</td>\n",
       "      <td>None</td>\n",
       "    </tr>\n",
       "    <tr>\n",
       "      <th>4</th>\n",
       "      <td>$299,000</td>\n",
       "      <td>3bd</td>\n",
       "      <td>3ba</td>\n",
       "      <td>1,692 sqft</td>\n",
       "      <td>501 Warren Pl</td>\n",
       "      <td>Ithaca, NY</td>\n",
       "    </tr>\n",
       "    <tr>\n",
       "      <th>...</th>\n",
       "      <td>...</td>\n",
       "      <td>...</td>\n",
       "      <td>...</td>\n",
       "      <td>...</td>\n",
       "      <td>...</td>\n",
       "      <td>...</td>\n",
       "    </tr>\n",
       "    <tr>\n",
       "      <th>135</th>\n",
       "      <td>None</td>\n",
       "      <td>None</td>\n",
       "      <td>None</td>\n",
       "      <td>None</td>\n",
       "      <td>None</td>\n",
       "      <td>None</td>\n",
       "    </tr>\n",
       "    <tr>\n",
       "      <th>136</th>\n",
       "      <td>None</td>\n",
       "      <td>None</td>\n",
       "      <td>None</td>\n",
       "      <td>None</td>\n",
       "      <td>None</td>\n",
       "      <td>None</td>\n",
       "    </tr>\n",
       "    <tr>\n",
       "      <th>137</th>\n",
       "      <td>None</td>\n",
       "      <td>None</td>\n",
       "      <td>None</td>\n",
       "      <td>None</td>\n",
       "      <td>None</td>\n",
       "      <td>None</td>\n",
       "    </tr>\n",
       "    <tr>\n",
       "      <th>138</th>\n",
       "      <td>None</td>\n",
       "      <td>None</td>\n",
       "      <td>None</td>\n",
       "      <td>None</td>\n",
       "      <td>None</td>\n",
       "      <td>None</td>\n",
       "    </tr>\n",
       "    <tr>\n",
       "      <th>139</th>\n",
       "      <td>None</td>\n",
       "      <td>None</td>\n",
       "      <td>None</td>\n",
       "      <td>None</td>\n",
       "      <td>None</td>\n",
       "      <td>None</td>\n",
       "    </tr>\n",
       "  </tbody>\n",
       "</table>\n",
       "<p>140 rows × 6 columns</p>\n",
       "</div>"
      ],
      "text/plain": [
       "        Price Bedroom Bathroom        Size          Address1  \\\n",
       "0    $325,000     3bd      3ba  2,644 sqft  124 Pine Tree Rd   \n",
       "1    $134,933     3bd      2ba  1,360 sqft        409 Elm St   \n",
       "2        None    None     None        None              None   \n",
       "3        None    None     None        None              None   \n",
       "4    $299,000     3bd      3ba  1,692 sqft     501 Warren Pl   \n",
       "..        ...     ...      ...         ...               ...   \n",
       "135      None    None     None        None              None   \n",
       "136      None    None     None        None              None   \n",
       "137      None    None     None        None              None   \n",
       "138      None    None     None        None              None   \n",
       "139      None    None     None        None              None   \n",
       "\n",
       "                    Address2  \n",
       "0    East Ithaca, Ithaca, NY  \n",
       "1                 Ithaca, NY  \n",
       "2                       None  \n",
       "3                       None  \n",
       "4                 Ithaca, NY  \n",
       "..                       ...  \n",
       "135                     None  \n",
       "136                     None  \n",
       "137                     None  \n",
       "138                     None  \n",
       "139                     None  \n",
       "\n",
       "[140 rows x 6 columns]"
      ]
     },
     "execution_count": 13,
     "metadata": {},
     "output_type": "execute_result"
    }
   ],
   "source": [
    "# form a DataFrame to store the housing information\n",
    "# *************************************************\n",
    "import pandas as pd\n",
    "\n",
    "# combine all lists into a Dataframe\n",
    "allresult = pd.DataFrame(\n",
    "    {'Price': price_lst,\n",
    "     'Bedroom': bed_lst,\n",
    "     'Bathroom': bath_lst,\n",
    "     'Size': size_lst,\n",
    "     'Address1': address1_lst,\n",
    "     'Address2': address2_lst \n",
    "    })\n",
    "\n",
    "allresult"
   ]
  },
  {
   "cell_type": "code",
   "execution_count": 14,
   "metadata": {},
   "outputs": [],
   "source": [
    "# export the collected data to excel\n",
    "allresult.to_excel('allresult.xlsx')"
   ]
  },
  {
   "cell_type": "markdown",
   "metadata": {},
   "source": [
    "In the above example, I introduced a very normal way of collecting the attributes we want. However, you should realize there are many ways to achieve the same goal and some might be easier and require simpler algorithm, for example, the following xpath returns the six attributes of a house in a single string. If you adopt to this method, there will be no need to identify the x-paths of each attribute separately, but instead, just specify one xpath for all and then easily split them by the separator `\\n`."
   ]
  },
  {
   "cell_type": "code",
   "execution_count": 88,
   "metadata": {},
   "outputs": [
    {
     "data": {
      "text/plain": [
       "'$325,000\\n3bd\\n3ba\\n2,644 sqft\\n124 Pine Tree Rd\\nEast Ithaca, Ithaca, NY'"
      ]
     },
     "execution_count": 88,
     "metadata": {},
     "output_type": "execute_result"
    }
   ],
   "source": [
    "# navigate to the target page \n",
    "browser.get('https://www.trulia.com/NY/Ithaca/')\n",
    "\n",
    "# save all attributes in a single string\n",
    "house1 = browser.find_element_by_xpath('//*[@id=\"resultsColumn\"]/div[1]/div[2]/div[1]/div/div/div/a/div[2]/div')\n",
    "house1.text"
   ]
  },
  {
   "cell_type": "markdown",
   "metadata": {},
   "source": [
    "<p><a id=\"Collecting other housing attributes in Turlia\"> </a></p>\n",
    "<h2 id=\"Collecting other housing attributes in Turlia\">4 <a href=\"#table\">Collecting other housing attributes in Turlia</a><a class=\"anchor-link\" href=\"#Collecting other housing attributes in Turlia\">¶</a></h2>\n",
    "\n",
    "In the last section, we collected six housing attributes of each housing record. However, some of you may think they are not good enough for further analysis and want to collect more specific housing structure attributes that determines property price. To obtain more housing attributes, randomly click a housing in Ithaca housing homepage. We will be navigated to the page that shows many more detailed attributes about that house. You just need to design a method to open each individual housing page and collect the detailed housing information.\n",
    "\n",
    "\n",
    "The basic thought to achieve this goal is to obtain the link (or called url) of each house, and then use the function `browser.get()` to open each link and collect the attributes we want using `find_element_by_...`. So our web-scraping program can be regarded as having an hierarchical structure with two levels. The primary level collects the six basic housing attributes and the links toward each individual housing website. The secondary level opens the link of each housing website, and collects more detailed housing attributes (see the figure below).\n",
    "\n",
    "<img src=\"img/webscraping_structure.jpg\" style=\"width:600px; height:300px\"/> \n",
    "\n",
    "\n",
    "We can use `find_elements_by_xpath()` to collect multiple elements at a single search, meaning that in our example, we obtain all the individual housing links in one homepage at once without using for-loop. Please distinguish this function from `find_element_by_xpath()` (no `s` on 'element') we used before which obtains a single element at each search. To find all links at once, we cannot copy and paste the xpath directly from the chrome browser, but instead, construct the xpath that identifies all the links by ourselves. \n",
    "\n",
    "The follow figure displays the source code of the homepage of Ithaca housing (page 1). After checking out several individual housing links, we find that all of them display the same structure in the source code (see level 1 and level 2 in the following Figure), namely beginning with an `a` as tag and a `href` as attribute. Please note that, `<a href=url>` is the standard XML structure used to specify the url of the page that the link goes to. In addition, we also find that the line above the individual housing links (Level 1) begins with a `div` as tag and a `data-hero-element-id` as attribute for each housing record. So now, we can build our own xpath based on the pattern we identified. The xpath can be written as `//div[@data-hero-element-id]/a[@href]`. The `//` (double forward slash) as the first symbol of an expression means that the search begins with a relative xpath that ignores the x-paths before the `//`; the `/` means absolute path that enables us to navigate exactly to the children of the node (@data-hero-element-id), which is `href` that stores the link of individual housing webpage. \n",
    "\n",
    "Tips: I recommend you add an extension called \"Xpath helper\" to your browser, so that next time when you need to test an x-path, you can copy and paste it to Xpath helper and see the text you extract from the xpath directly.     \n",
    "\n",
    "<img src=\"img/trulia_pages2.jpg\" style=\"width:1200px; height:300px\"/> \n",
    "\n",
    "Next, let us collect the links of all the houses in the housing list page 1 using: `find_elements_by_xpath()`. Note that this function returns Webelements rather than links (urls) directly. So we need further extract the links using\n",
    "`get_attribute('href')` and stores the links in a list `house_link_lst` using for-loop.  "
   ]
  },
  {
   "cell_type": "code",
   "execution_count": 139,
   "metadata": {},
   "outputs": [
    {
     "data": {
      "text/plain": [
       "['https://www.trulia.com/p/ny/ithaca/124-pine-tree-rd-ithaca-ny-14850--2013606496',\n",
       " 'https://www.trulia.com/p/ny/ithaca/409-elm-st-ithaca-ny-14850--1017918514',\n",
       " 'https://www.trulia.com/p/ny/ithaca/501-warren-pl-ithaca-ny-14850--2013614070',\n",
       " 'https://www.trulia.com/p/ny/ithaca/111-cottage-pl-ithaca-ny-14850--1005012140',\n",
       " 'https://www.trulia.com/p/ny/ithaca/215-w-king-rd-ithaca-ny-14850--2159283893',\n",
       " 'https://www.trulia.com/p/ny/freeville/7-hart-dr-freeville-ny-13068--1024928204',\n",
       " 'https://www.trulia.com/p/ny/ithaca/629-spencer-rd-ithaca-ny-14850--2013615074',\n",
       " 'https://www.trulia.com/property/5031918995-201-Sandbank-Rd-Ithaca-NY-14850',\n",
       " 'https://www.trulia.com/p/ny/ithaca/301-wyckoff-ave-ithaca-ny-14850--2013611478',\n",
       " 'https://www.trulia.com/p/ny/ithaca/1039-taughannock-blvd-ithaca-ny-14850--2013604091',\n",
       " 'https://www.trulia.com/property/9104959472-0-Cayuga-Heights-Rd-Ithaca-NY-14850',\n",
       " 'https://www.trulia.com/p/ny/ithaca/521-s-albany-st-ithaca-ny-14850--2089326890',\n",
       " 'https://www.trulia.com/p/ny/ithaca/67-whitetail-dr-ithaca-ny-14850--2013615290',\n",
       " 'https://www.trulia.com/p/ny/ithaca/1538-slaterville-rd-ithaca-ny-14850--2013607919',\n",
       " 'https://www.trulia.com/property/9077311610-119-Vera-Cir-Ithaca-NY-14850',\n",
       " 'https://www.trulia.com/p/ny/ithaca/1-sanctuary-dr-1-2-ithaca-ny-14850--2497679786',\n",
       " 'https://www.trulia.com/p/ny/ithaca/07-205-e-yates-st-ithaca-ny-14850--2508162957',\n",
       " 'https://www.trulia.com/p/ny/ithaca/201-w-king-rd-ithaca-ny-14850--2089325222',\n",
       " 'https://www.trulia.com/p/ny/ithaca/904-e-shore-dr-ithaca-ny-14850--2089327570',\n",
       " 'https://www.trulia.com/property/5062120041-0-N-Trumansburg-Rd-Ithaca-NY-14850',\n",
       " 'https://www.trulia.com/property/3086794829-0-Taughannock-Blvd-Ithaca-NY-14850',\n",
       " 'https://www.trulia.com/p/ny/ithaca/431-n-tioga-st-ithaca-ny-14850--2089326602',\n",
       " 'https://www.trulia.com/property/5043737824-412-Worth-St-Ithaca-NY-14850',\n",
       " 'https://www.trulia.com/property/3276534455-452-Floral-Ave-Ithaca-NY-14850',\n",
       " 'https://www.trulia.com/property/9104781104-0-Enfield-Falls-Rd-Ithaca-NY-14850',\n",
       " 'https://www.trulia.com/builder-community/Amabel-Pocket-Neighborhood-6000284198/new-home/Plan-The-Tarn/4084260593',\n",
       " 'https://www.trulia.com/property/3135457318-329-Spencer-Rd-Ithaca-NY-14850',\n",
       " 'https://www.trulia.com/property/5071634927-Lot-Seven-Warren-Rd-Ithaca-NY-14850',\n",
       " 'https://www.trulia.com/property/5071635240-Lot-Six-Warren-Rd-Ithaca-NY-14850',\n",
       " 'https://www.trulia.com/p/ny/ithaca/429-n-tioga-st-ithaca-ny-14850--1019003850']"
      ]
     },
     "execution_count": 139,
     "metadata": {},
     "output_type": "execute_result"
    }
   ],
   "source": [
    "# open the web-driver and navigate to the target page (the 1st page)\n",
    "browser = webdriver.Chrome('chromedriver')\n",
    "browser.get('https://www.trulia.com/NY/Ithaca/1_p/')\n",
    "\n",
    "\n",
    "# obtain all the housing links in the target page\n",
    "house_link = browser.find_elements_by_xpath('//div[@data-hero-element-id]/a[@href]')\n",
    "\n",
    "\n",
    "# save all the housing links in a list\n",
    "house_link_lst = []\n",
    "for url in house_link:\n",
    "    house_link_lst.append(url.get_attribute('href'))\n",
    "\n",
    "house_link_lst"
   ]
  },
  {
   "cell_type": "markdown",
   "metadata": {},
   "source": [
    "We select only the links with the characters `https://www.trulia.com/p/ny/...` because other links are not houses, but lots being sold.  \n",
    "\n",
    "<img src=\"img/property_types.jpg\" style=\"width:700px; height:300px\"/> "
   ]
  },
  {
   "cell_type": "code",
   "execution_count": 141,
   "metadata": {
    "scrolled": true
   },
   "outputs": [
    {
     "data": {
      "text/plain": [
       "['https://www.trulia.com/p/ny/ithaca/124-pine-tree-rd-ithaca-ny-14850--2013606496',\n",
       " 'https://www.trulia.com/p/ny/ithaca/409-elm-st-ithaca-ny-14850--1017918514',\n",
       " 'https://www.trulia.com/p/ny/ithaca/501-warren-pl-ithaca-ny-14850--2013614070',\n",
       " 'https://www.trulia.com/p/ny/ithaca/111-cottage-pl-ithaca-ny-14850--1005012140',\n",
       " 'https://www.trulia.com/p/ny/ithaca/215-w-king-rd-ithaca-ny-14850--2159283893',\n",
       " 'https://www.trulia.com/p/ny/freeville/7-hart-dr-freeville-ny-13068--1024928204',\n",
       " 'https://www.trulia.com/p/ny/ithaca/629-spencer-rd-ithaca-ny-14850--2013615074',\n",
       " 'https://www.trulia.com/p/ny/ithaca/301-wyckoff-ave-ithaca-ny-14850--2013611478',\n",
       " 'https://www.trulia.com/p/ny/ithaca/1039-taughannock-blvd-ithaca-ny-14850--2013604091',\n",
       " 'https://www.trulia.com/p/ny/ithaca/521-s-albany-st-ithaca-ny-14850--2089326890',\n",
       " 'https://www.trulia.com/p/ny/ithaca/67-whitetail-dr-ithaca-ny-14850--2013615290',\n",
       " 'https://www.trulia.com/p/ny/ithaca/1538-slaterville-rd-ithaca-ny-14850--2013607919',\n",
       " 'https://www.trulia.com/p/ny/ithaca/1-sanctuary-dr-1-2-ithaca-ny-14850--2497679786',\n",
       " 'https://www.trulia.com/p/ny/ithaca/07-205-e-yates-st-ithaca-ny-14850--2508162957',\n",
       " 'https://www.trulia.com/p/ny/ithaca/201-w-king-rd-ithaca-ny-14850--2089325222',\n",
       " 'https://www.trulia.com/p/ny/ithaca/904-e-shore-dr-ithaca-ny-14850--2089327570',\n",
       " 'https://www.trulia.com/p/ny/ithaca/431-n-tioga-st-ithaca-ny-14850--2089326602',\n",
       " 'https://www.trulia.com/p/ny/ithaca/429-n-tioga-st-ithaca-ny-14850--1019003850']"
      ]
     },
     "execution_count": 141,
     "metadata": {},
     "output_type": "execute_result"
    }
   ],
   "source": [
    "house_link_lst = [i for i in house_link_lst if \"https://www.trulia.com/p/ny/\" in i]\n",
    "house_link_lst"
   ]
  },
  {
   "cell_type": "markdown",
   "metadata": {},
   "source": [
    "Now, we can finally collect the detailed housing attributes by navigating to the individual housing webpage using `browser.get(house link)`. Try to collect the attributes Year Built and Unit Price that we do not have. After browsing the individual house webpages, however, you may find the two variables are invisible unless you click the button `See All`(see Figure below). To handle this button click event, locate to the \"See All\" button using `find_element_by_xpath()`, and click it by `button.click`.    \n",
    "<img src=\"img/see_more.jpg\" style=\"width:600px; height:200px\"/> \n",
    "\n",
    "Finally, we can collect the Year Built and Unit Price listed in each housing website using `find_element_by_xpath()`!"
   ]
  },
  {
   "cell_type": "code",
   "execution_count": 165,
   "metadata": {},
   "outputs": [],
   "source": [
    "# open the web-driver and navigate to the target page \n",
    "browser = webdriver.Chrome('chromedriver')\n",
    "browser.get('https://www.trulia.com/NY/Ithaca/1_p/')\n",
    "\n",
    "# define the variables to be collected\n",
    "built_year_lst = []\n",
    "unitprice_lst = []\n",
    "root = '//*[@id=\"main-content\"]/div[2]/div[2]/div[5]/div[2]'\n",
    "\n",
    "# obtain the housing information year built and unit price\n",
    "for url in house_link_lst:\n",
    "    browser.get(url)\n",
    "    \n",
    "    # click \"see more\"\n",
    "    button = browser.find_element_by_xpath('//*[@id=\"main-content\"]/div[2]/div[2]/div[5]/div[3]/button')\n",
    "    button.click()\n",
    "\n",
    "    \n",
    "    built_year = browser.find_element_by_xpath(root + '/div[4]/table/tbody/tr[1]/td/div[2]/li')\n",
    "    if \"Year Built\" in built_year.text:\n",
    "        built_year_lst.append(built_year.text) \n",
    "    else: \n",
    "        built_year_lst.append(\"None\") \n",
    "\n",
    "        \n",
    "    unitprice = browser.find_element_by_xpath(root + '/div[5]/table/tbody/tr/td/div[2]/li')\n",
    "    if \"Price Per Sqft\" in unitprice.text: \n",
    "        unitprice_lst.append(unitprice.text) \n",
    "    else: \n",
    "        unitprice_lst.append(\"None\")\n"
   ]
  },
  {
   "cell_type": "code",
   "execution_count": 166,
   "metadata": {},
   "outputs": [
    {
     "data": {
      "text/html": [
       "<div>\n",
       "<style scoped>\n",
       "    .dataframe tbody tr th:only-of-type {\n",
       "        vertical-align: middle;\n",
       "    }\n",
       "\n",
       "    .dataframe tbody tr th {\n",
       "        vertical-align: top;\n",
       "    }\n",
       "\n",
       "    .dataframe thead th {\n",
       "        text-align: right;\n",
       "    }\n",
       "</style>\n",
       "<table border=\"1\" class=\"dataframe\">\n",
       "  <thead>\n",
       "    <tr style=\"text-align: right;\">\n",
       "      <th></th>\n",
       "      <th>YearBuilt</th>\n",
       "      <th>UnitPrice</th>\n",
       "    </tr>\n",
       "  </thead>\n",
       "  <tbody>\n",
       "    <tr>\n",
       "      <th>0</th>\n",
       "      <td>Year Built: 1962</td>\n",
       "      <td>Price Per Sqft: $123</td>\n",
       "    </tr>\n",
       "    <tr>\n",
       "      <th>1</th>\n",
       "      <td>None</td>\n",
       "      <td>Price Per Sqft: $99</td>\n",
       "    </tr>\n",
       "    <tr>\n",
       "      <th>2</th>\n",
       "      <td>Year Built: 1972</td>\n",
       "      <td>Price Per Sqft: $177</td>\n",
       "    </tr>\n",
       "    <tr>\n",
       "      <th>3</th>\n",
       "      <td>Year Built: 1932</td>\n",
       "      <td>Price Per Sqft: $328</td>\n",
       "    </tr>\n",
       "    <tr>\n",
       "      <th>4</th>\n",
       "      <td>Year Built: 1992</td>\n",
       "      <td>Price Per Sqft: $214</td>\n",
       "    </tr>\n",
       "    <tr>\n",
       "      <th>5</th>\n",
       "      <td>Year Built: 2007</td>\n",
       "      <td>Price Per Sqft: $130</td>\n",
       "    </tr>\n",
       "    <tr>\n",
       "      <th>6</th>\n",
       "      <td>Year Built: 1950</td>\n",
       "      <td>Price Per Sqft: $198</td>\n",
       "    </tr>\n",
       "    <tr>\n",
       "      <th>7</th>\n",
       "      <td>Year Built: 1917</td>\n",
       "      <td>Price Per Sqft: $207</td>\n",
       "    </tr>\n",
       "    <tr>\n",
       "      <th>8</th>\n",
       "      <td>Year Built: 1928</td>\n",
       "      <td>Price Per Sqft: $422</td>\n",
       "    </tr>\n",
       "    <tr>\n",
       "      <th>9</th>\n",
       "      <td>Year Built: 1910</td>\n",
       "      <td>Price Per Sqft: $145</td>\n",
       "    </tr>\n",
       "    <tr>\n",
       "      <th>10</th>\n",
       "      <td>Year Built: 1988</td>\n",
       "      <td>Price Per Sqft: $157</td>\n",
       "    </tr>\n",
       "    <tr>\n",
       "      <th>11</th>\n",
       "      <td>Year Built: 1925</td>\n",
       "      <td>Price Per Sqft: $105</td>\n",
       "    </tr>\n",
       "    <tr>\n",
       "      <th>12</th>\n",
       "      <td>Year Built: 1997</td>\n",
       "      <td>Price Per Sqft: $136</td>\n",
       "    </tr>\n",
       "    <tr>\n",
       "      <th>13</th>\n",
       "      <td>Year Built: 1910</td>\n",
       "      <td>Price Per Sqft: $149</td>\n",
       "    </tr>\n",
       "    <tr>\n",
       "      <th>14</th>\n",
       "      <td>Year Built: 1950</td>\n",
       "      <td>Price Per Sqft: $95</td>\n",
       "    </tr>\n",
       "    <tr>\n",
       "      <th>15</th>\n",
       "      <td>Year Built: 1988</td>\n",
       "      <td>Price Per Sqft: $214</td>\n",
       "    </tr>\n",
       "    <tr>\n",
       "      <th>16</th>\n",
       "      <td>Year Built: 1870</td>\n",
       "      <td>Price Per Sqft: $167</td>\n",
       "    </tr>\n",
       "    <tr>\n",
       "      <th>17</th>\n",
       "      <td>Year Built: 1870</td>\n",
       "      <td>Price Per Sqft: $164</td>\n",
       "    </tr>\n",
       "  </tbody>\n",
       "</table>\n",
       "</div>"
      ],
      "text/plain": [
       "           YearBuilt             UnitPrice\n",
       "0   Year Built: 1962  Price Per Sqft: $123\n",
       "1               None   Price Per Sqft: $99\n",
       "2   Year Built: 1972  Price Per Sqft: $177\n",
       "3   Year Built: 1932  Price Per Sqft: $328\n",
       "4   Year Built: 1992  Price Per Sqft: $214\n",
       "5   Year Built: 2007  Price Per Sqft: $130\n",
       "6   Year Built: 1950  Price Per Sqft: $198\n",
       "7   Year Built: 1917  Price Per Sqft: $207\n",
       "8   Year Built: 1928  Price Per Sqft: $422\n",
       "9   Year Built: 1910  Price Per Sqft: $145\n",
       "10  Year Built: 1988  Price Per Sqft: $157\n",
       "11  Year Built: 1925  Price Per Sqft: $105\n",
       "12  Year Built: 1997  Price Per Sqft: $136\n",
       "13  Year Built: 1910  Price Per Sqft: $149\n",
       "14  Year Built: 1950   Price Per Sqft: $95\n",
       "15  Year Built: 1988  Price Per Sqft: $214\n",
       "16  Year Built: 1870  Price Per Sqft: $167\n",
       "17  Year Built: 1870  Price Per Sqft: $164"
      ]
     },
     "execution_count": 166,
     "metadata": {},
     "output_type": "execute_result"
    }
   ],
   "source": [
    "# combine all lists into a Dataframe\n",
    "allresult = pd.DataFrame(\n",
    "    {'YearBuilt': built_year_lst,\n",
    "     'UnitPrice': unitprice_lst\n",
    "    })\n",
    "\n",
    "allresult"
   ]
  }
 ],
 "metadata": {
  "kernelspec": {
   "display_name": "Python 3 (ipykernel)",
   "language": "python",
   "name": "python3"
  },
  "language_info": {
   "codemirror_mode": {
    "name": "ipython",
    "version": 3
   },
   "file_extension": ".py",
   "mimetype": "text/x-python",
   "name": "python",
   "nbconvert_exporter": "python",
   "pygments_lexer": "ipython3",
   "version": "3.9.19"
  }
 },
 "nbformat": 4,
 "nbformat_minor": 4
}
